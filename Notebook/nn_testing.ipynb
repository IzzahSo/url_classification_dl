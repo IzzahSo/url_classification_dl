{
 "cells": [
  {
   "cell_type": "code",
   "execution_count": 6,
   "metadata": {},
   "outputs": [
    {
     "name": "stdout",
     "output_type": "stream",
     "text": [
      "spam_dataset\n"
     ]
    }
   ],
   "source": [
    "import os\n",
    "import pandas as pd\n",
    "import numpy as np\n",
    "from sklearn.preprocessing import LabelEncoder\n",
    "from sklearn.preprocessing import MinMaxScaler\n",
    "import tensorflow as tf\n",
    "import pickle\n",
    "os.chdir(\"../\")\n",
    "os.chdir(\"scripts\")\n",
    "import data_creation_v3 as d\n",
    "from keras import models\n",
    "os.chdir(\"../\")\n",
    "os.chdir(\"models/\")\n",
    "\n",
    "\n",
    "order = ['bodyLength', 'bscr', 'dse', 'dsr', 'entropy', 'hasHttp', 'hasHttps',\n",
    "       'has_ip', 'numDigits', 'numImages', 'numLinks', 'numParams',\n",
    "       'numTitles', 'num_%20', 'num_@', 'sbr', 'scriptLength', 'specialChars',\n",
    "       'sscr', 'urlIsLive', 'urlLength']\n",
    "\n",
    "if __name__ == '__main__':\n",
    "\ta = d.UrlFeaturizer('http://astore.amazon.co.uk/allezvinsfrenchr/detail/1904010202/026-8324244-9330038').run()\n",
    "\ttest = []\n",
    "\tfor i in order:\n",
    "\t    test.append(a[i])\n",
    "\tencoder = LabelEncoder()\n",
    "\tencoder.classes_ = np.load('lblenc.npy',allow_pickle=True)\n",
    "\tscalerfile = 'scaler.sav'\n",
    "\tscaler = pickle.load(open(scalerfile, 'rb'))\n",
    "\tmodel = models.load_model(\"Model_v1.h5\")#, custom_objects={'f1_m':f1_m,\"precision_m\":precision_m, \"recall_m\":recall_m})\n",
    "\tpredicted = np.argmax(model.predict(scaler.transform(np.array(test).reshape(1,-1))),axis=1)\n",
    "\tprint(encoder.inverse_transform(predicted)[0])"
   ]
  },
  {
   "cell_type": "code",
   "execution_count": 12,
   "metadata": {},
   "outputs": [
    {
     "data": {
      "text/plain": [
       "array([[ 3.10000000e+01,  6.45161290e-02,  0.00000000e+00,\n",
       "         0.00000000e+00, -4.70830707e+00,  1.00000000e+00,\n",
       "         0.00000000e+00,  0.00000000e+00,  2.70000000e+01,\n",
       "         1.00000000e+00,  0.00000000e+00,  0.00000000e+00,\n",
       "         0.00000000e+00,  0.00000000e+00,  0.00000000e+00,\n",
       "         0.00000000e+00,  0.00000000e+00,  2.00000000e+00,\n",
       "         0.00000000e+00,  0.00000000e+00,  8.10000000e+01]])"
      ]
     },
     "execution_count": 12,
     "metadata": {},
     "output_type": "execute_result"
    }
   ],
   "source": [
    "pd.DataFrame(test).replace(True,1).replace(False,0).to_numpy().reshape(1,-1)"
   ]
  },
  {
   "cell_type": "code",
   "execution_count": null,
   "metadata": {},
   "outputs": [],
   "source": []
  }
 ],
 "metadata": {
  "kernelspec": {
   "display_name": "Python 3",
   "language": "python",
   "name": "python3"
  },
  "language_info": {
   "codemirror_mode": {
    "name": "ipython",
    "version": 3
   },
   "file_extension": ".py",
   "mimetype": "text/x-python",
   "name": "python",
   "nbconvert_exporter": "python",
   "pygments_lexer": "ipython3",
   "version": "3.7.4"
  },
  "toc": {
   "base_numbering": 1,
   "nav_menu": {},
   "number_sections": false,
   "sideBar": false,
   "skip_h1_title": false,
   "title_cell": "Table of Contents",
   "title_sidebar": "Contents",
   "toc_cell": false,
   "toc_position": {},
   "toc_section_display": false,
   "toc_window_display": false
  }
 },
 "nbformat": 4,
 "nbformat_minor": 5
}
