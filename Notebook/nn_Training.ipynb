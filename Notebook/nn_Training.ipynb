{
 "cells": [
  {
   "cell_type": "code",
   "execution_count": 1,
   "id": "7a725ae4",
   "metadata": {},
   "outputs": [],
   "source": [
    "import os\n",
    "os.chdir(\"../\")\n",
    "os.chdir(\"FinalDataset\")"
   ]
  },
  {
   "cell_type": "code",
   "execution_count": 2,
   "id": "e3df32e8",
   "metadata": {},
   "outputs": [
    {
     "data": {
      "text/plain": [
       "'/Volumes/Rohith/url_classification_dl/FinalDataset'"
      ]
     },
     "execution_count": 2,
     "metadata": {},
     "output_type": "execute_result"
    }
   ],
   "source": [
    "os.getcwd()"
   ]
  },
  {
   "cell_type": "code",
   "execution_count": 3,
   "id": "56ddb001",
   "metadata": {},
   "outputs": [
    {
     "name": "stdout",
     "output_type": "stream",
     "text": [
      "INFO:tensorflow:Enabling eager execution\n",
      "INFO:tensorflow:Enabling v2 tensorshape\n",
      "INFO:tensorflow:Enabling resource variables\n",
      "INFO:tensorflow:Enabling tensor equality\n",
      "INFO:tensorflow:Enabling control flow v2\n"
     ]
    }
   ],
   "source": [
    "import pandas as pd\n",
    "import tensorflow as ts\n",
    "import numpy as np\n",
    "from sklearn.preprocessing import LabelEncoder\n",
    "from keras.utils.np_utils import to_categorical\n",
    "from sklearn.model_selection import train_test_split\n",
    "from sklearn.metrics import accuracy_score,f1_score,precision_score,recall_score\n",
    "from sklearn.preprocessing import MinMaxScaler\n",
    "from keras.utils import np_utils\n",
    "from keras import backend as K"
   ]
  },
  {
   "cell_type": "code",
   "execution_count": 4,
   "id": "29e1a183",
   "metadata": {},
   "outputs": [],
   "source": [
    "def recall_m(y_true, y_pred):\n",
    "    true_positives = K.sum(K.round(K.clip(y_true * y_pred, 0, 1)))\n",
    "    possible_positives = K.sum(K.round(K.clip(y_true, 0, 1)))\n",
    "    recall = true_positives / (possible_positives + K.epsilon())\n",
    "    return recall\n",
    "\n",
    "def precision_m(y_true, y_pred):\n",
    "    true_positives = K.sum(K.round(K.clip(y_true * y_pred, 0, 1)))\n",
    "    predicted_positives = K.sum(K.round(K.clip(y_pred, 0, 1)))\n",
    "    precision = true_positives / (predicted_positives + K.epsilon())\n",
    "    return precision\n",
    "\n",
    "def f1_m(y_true, y_pred):\n",
    "    precision = precision_m(y_true, y_pred)\n",
    "    recall = recall_m(y_true, y_pred)\n",
    "    return 2*((precision*recall)/(precision+recall+K.epsilon()))"
   ]
  },
  {
   "cell_type": "code",
   "execution_count": 5,
   "id": "b59d1db9",
   "metadata": {},
   "outputs": [],
   "source": [
    "data = pd.read_csv(\"feature.csv\")"
   ]
  },
  {
   "cell_type": "code",
   "execution_count": 6,
   "id": "a73f98e9",
   "metadata": {},
   "outputs": [],
   "source": [
    "data.drop(columns='Unnamed: 0',inplace=True)\n",
    "data.replace(True,1,inplace = True)\n",
    "data.replace(False,0,inplace = True)\n",
    "y = data[\"File\"]"
   ]
  },
  {
   "cell_type": "code",
   "execution_count": 7,
   "id": "02d8bb44",
   "metadata": {},
   "outputs": [],
   "source": [
    "data = data.drop(columns = \"File\")"
   ]
  },
  {
   "cell_type": "code",
   "execution_count": 8,
   "id": "82c99b23",
   "metadata": {},
   "outputs": [],
   "source": [
    "encoder = LabelEncoder()\n",
    "encoder.fit(y)\n",
    "Y = encoder.transform(y)"
   ]
  },
  {
   "cell_type": "code",
   "execution_count": 9,
   "id": "b903a013",
   "metadata": {},
   "outputs": [],
   "source": [
    "scaler = MinMaxScaler(feature_range=(0, 2))\n",
    "X = scaler.fit_transform(data)\n",
    "X = pd.DataFrame(X)"
   ]
  },
  {
   "cell_type": "code",
   "execution_count": 10,
   "id": "90480a26",
   "metadata": {},
   "outputs": [],
   "source": [
    "from keras.models import Sequential\n",
    "from keras.layers import LSTM, Dense, Dropout, Masking, Embedding\n",
    "\n",
    "input_dim = len(data.columns)\n",
    "model = Sequential()\n",
    "model.add(Dense(256, input_dim = input_dim , activation = 'relu'))\n",
    "model.add(Dense(128, activation = 'relu'))\n",
    "model.add(Dense(64, activation = 'relu'))\n",
    "model.add(Dense(32, activation = 'relu'))\n",
    "model.add(Dense(16, activation = 'relu'))\n",
    "model.add(Dense(5, activation = 'softmax'))\n",
    "\n",
    "model.compile(loss = 'categorical_crossentropy' , optimizer = 'adam' , metrics = ['accuracy',f1_m,precision_m, recall_m] )\n",
    "    "
   ]
  },
  {
   "cell_type": "code",
   "execution_count": 11,
   "id": "b69f930c",
   "metadata": {},
   "outputs": [],
   "source": [
    "X_train, X_test, y_train, y_test = train_test_split(X, Y, test_size=0.25, random_state=42)"
   ]
  },
  {
   "cell_type": "code",
   "execution_count": 12,
   "id": "6db04281",
   "metadata": {},
   "outputs": [
    {
     "name": "stdout",
     "output_type": "stream",
     "text": [
      "Epoch 1/50\n",
      "WARNING:tensorflow:AutoGraph could not transform <bound method Dense.call of <keras.layers.core.Dense object at 0x7f9050fbcbb0>> and will run it as-is.\n",
      "Please report this to the TensorFlow team. When filing the bug, set the verbosity to 10 (on Linux, `export AUTOGRAPH_VERBOSITY=10`) and attach the full output.\n",
      "Cause: invalid syntax (tmpvs1_9qaq.py, line 48)\n",
      "To silence this warning, decorate the function with @tf.autograph.experimental.do_not_convert\n",
      "WARNING: AutoGraph could not transform <bound method Dense.call of <keras.layers.core.Dense object at 0x7f9050fbcbb0>> and will run it as-is.\n",
      "Please report this to the TensorFlow team. When filing the bug, set the verbosity to 10 (on Linux, `export AUTOGRAPH_VERBOSITY=10`) and attach the full output.\n",
      "Cause: invalid syntax (tmpvs1_9qaq.py, line 48)\n",
      "To silence this warning, decorate the function with @tf.autograph.experimental.do_not_convert\n",
      "224/224 [==============================] - 11s 5ms/step - loss: 1.3070 - accuracy: 0.4209 - f1_m: 0.2093 - precision_m: 0.5108 - recall_m: 0.1413 - val_loss: 0.9785 - val_accuracy: 0.5956 - val_f1_m: 0.5786 - val_precision_m: 0.7300 - val_recall_m: 0.4798\n",
      "Epoch 2/50\n",
      "224/224 [==============================] - 0s 2ms/step - loss: 0.9297 - accuracy: 0.6278 - f1_m: 0.6028 - precision_m: 0.7886 - recall_m: 0.4902 - val_loss: 0.8325 - val_accuracy: 0.6664 - val_f1_m: 0.6553 - val_precision_m: 0.8063 - val_recall_m: 0.5528\n",
      "Epoch 3/50\n",
      "224/224 [==============================] - 0s 2ms/step - loss: 0.8258 - accuracy: 0.6745 - f1_m: 0.6594 - precision_m: 0.8009 - recall_m: 0.5617 - val_loss: 0.7702 - val_accuracy: 0.6981 - val_f1_m: 0.6864 - val_precision_m: 0.8099 - val_recall_m: 0.5964\n",
      "Epoch 4/50\n",
      "224/224 [==============================] - 0s 2ms/step - loss: 0.7590 - accuracy: 0.6994 - f1_m: 0.6900 - precision_m: 0.8174 - recall_m: 0.5981 - val_loss: 0.7839 - val_accuracy: 0.6804 - val_f1_m: 0.6681 - val_precision_m: 0.7589 - val_recall_m: 0.5972\n",
      "Epoch 5/50\n",
      "224/224 [==============================] - 0s 2ms/step - loss: 0.7078 - accuracy: 0.7243 - f1_m: 0.7157 - precision_m: 0.8288 - recall_m: 0.6305 - val_loss: 0.6508 - val_accuracy: 0.7566 - val_f1_m: 0.7391 - val_precision_m: 0.8479 - val_recall_m: 0.6557\n",
      "Epoch 6/50\n",
      "224/224 [==============================] - 0s 2ms/step - loss: 0.6561 - accuracy: 0.7447 - f1_m: 0.7336 - precision_m: 0.8410 - recall_m: 0.6513 - val_loss: 0.6564 - val_accuracy: 0.7430 - val_f1_m: 0.7334 - val_precision_m: 0.8248 - val_recall_m: 0.6609\n",
      "Epoch 7/50\n",
      "224/224 [==============================] - 0s 2ms/step - loss: 0.6221 - accuracy: 0.7610 - f1_m: 0.7482 - precision_m: 0.8479 - recall_m: 0.6703 - val_loss: 0.6136 - val_accuracy: 0.7676 - val_f1_m: 0.7560 - val_precision_m: 0.8290 - val_recall_m: 0.6952\n",
      "Epoch 8/50\n",
      "224/224 [==============================] - 0s 2ms/step - loss: 0.6080 - accuracy: 0.7638 - f1_m: 0.7575 - precision_m: 0.8447 - recall_m: 0.6875 - val_loss: 0.5838 - val_accuracy: 0.7786 - val_f1_m: 0.7638 - val_precision_m: 0.8622 - val_recall_m: 0.6862\n",
      "Epoch 9/50\n",
      "224/224 [==============================] - 0s 2ms/step - loss: 0.5868 - accuracy: 0.7730 - f1_m: 0.7652 - precision_m: 0.8514 - recall_m: 0.6956 - val_loss: 0.5850 - val_accuracy: 0.7696 - val_f1_m: 0.7581 - val_precision_m: 0.8447 - val_recall_m: 0.6880\n",
      "Epoch 10/50\n",
      "224/224 [==============================] - 0s 2ms/step - loss: 0.5599 - accuracy: 0.7812 - f1_m: 0.7723 - precision_m: 0.8538 - recall_m: 0.7058 - val_loss: 0.5624 - val_accuracy: 0.7894 - val_f1_m: 0.7754 - val_precision_m: 0.8591 - val_recall_m: 0.7070\n",
      "Epoch 11/50\n",
      "224/224 [==============================] - 0s 2ms/step - loss: 0.5566 - accuracy: 0.7826 - f1_m: 0.7771 - precision_m: 0.8512 - recall_m: 0.7155 - val_loss: 0.5510 - val_accuracy: 0.7901 - val_f1_m: 0.7909 - val_precision_m: 0.8531 - val_recall_m: 0.7377\n",
      "Epoch 12/50\n",
      "224/224 [==============================] - 0s 2ms/step - loss: 0.5445 - accuracy: 0.7879 - f1_m: 0.7847 - precision_m: 0.8542 - recall_m: 0.7261 - val_loss: 0.5489 - val_accuracy: 0.7883 - val_f1_m: 0.7807 - val_precision_m: 0.8562 - val_recall_m: 0.7179\n",
      "Epoch 13/50\n",
      "224/224 [==============================] - 0s 2ms/step - loss: 0.5551 - accuracy: 0.7819 - f1_m: 0.7769 - precision_m: 0.8486 - recall_m: 0.7171 - val_loss: 0.5552 - val_accuracy: 0.7873 - val_f1_m: 0.7852 - val_precision_m: 0.8403 - val_recall_m: 0.7371\n",
      "Epoch 14/50\n",
      "224/224 [==============================] - 0s 2ms/step - loss: 0.5202 - accuracy: 0.7986 - f1_m: 0.7971 - precision_m: 0.8610 - recall_m: 0.7426 - val_loss: 0.5404 - val_accuracy: 0.7852 - val_f1_m: 0.7861 - val_precision_m: 0.8575 - val_recall_m: 0.7260\n",
      "Epoch 15/50\n",
      "224/224 [==============================] - 0s 2ms/step - loss: 0.5173 - accuracy: 0.7993 - f1_m: 0.7942 - precision_m: 0.8600 - recall_m: 0.7382 - val_loss: 0.5527 - val_accuracy: 0.7796 - val_f1_m: 0.7746 - val_precision_m: 0.8449 - val_recall_m: 0.7156\n",
      "Epoch 16/50\n",
      "224/224 [==============================] - 0s 2ms/step - loss: 0.5130 - accuracy: 0.8028 - f1_m: 0.8009 - precision_m: 0.8651 - recall_m: 0.7462 - val_loss: 0.5398 - val_accuracy: 0.7892 - val_f1_m: 0.7914 - val_precision_m: 0.8536 - val_recall_m: 0.7381\n",
      "Epoch 17/50\n",
      "224/224 [==============================] - 0s 2ms/step - loss: 0.5066 - accuracy: 0.8061 - f1_m: 0.8045 - precision_m: 0.8653 - recall_m: 0.7520 - val_loss: 0.5278 - val_accuracy: 0.8015 - val_f1_m: 0.7966 - val_precision_m: 0.8614 - val_recall_m: 0.7414\n",
      "Epoch 18/50\n",
      "224/224 [==============================] - 0s 2ms/step - loss: 0.5005 - accuracy: 0.8078 - f1_m: 0.8020 - precision_m: 0.8659 - recall_m: 0.7474 - val_loss: 0.5125 - val_accuracy: 0.8035 - val_f1_m: 0.7994 - val_precision_m: 0.8756 - val_recall_m: 0.7358\n",
      "Epoch 19/50\n",
      "224/224 [==============================] - 0s 2ms/step - loss: 0.4916 - accuracy: 0.8052 - f1_m: 0.8076 - precision_m: 0.8658 - recall_m: 0.7572 - val_loss: 0.5507 - val_accuracy: 0.7909 - val_f1_m: 0.7889 - val_precision_m: 0.8415 - val_recall_m: 0.7429\n",
      "Epoch 20/50\n",
      "224/224 [==============================] - 0s 2ms/step - loss: 0.4893 - accuracy: 0.8082 - f1_m: 0.8052 - precision_m: 0.8639 - recall_m: 0.7545 - val_loss: 0.5101 - val_accuracy: 0.8015 - val_f1_m: 0.7960 - val_precision_m: 0.8662 - val_recall_m: 0.7368\n",
      "Epoch 21/50\n",
      "224/224 [==============================] - 0s 2ms/step - loss: 0.4872 - accuracy: 0.8137 - f1_m: 0.8084 - precision_m: 0.8682 - recall_m: 0.7570 - val_loss: 0.5021 - val_accuracy: 0.8080 - val_f1_m: 0.8096 - val_precision_m: 0.8659 - val_recall_m: 0.7606\n",
      "Epoch 22/50\n",
      "224/224 [==============================] - 0s 2ms/step - loss: 0.4752 - accuracy: 0.8151 - f1_m: 0.8143 - precision_m: 0.8723 - recall_m: 0.7639 - val_loss: 0.5152 - val_accuracy: 0.8020 - val_f1_m: 0.8056 - val_precision_m: 0.8563 - val_recall_m: 0.7610\n",
      "Epoch 23/50\n",
      "224/224 [==============================] - 0s 2ms/step - loss: 0.4821 - accuracy: 0.8122 - f1_m: 0.8107 - precision_m: 0.8671 - recall_m: 0.7618 - val_loss: 0.4957 - val_accuracy: 0.8075 - val_f1_m: 0.8097 - val_precision_m: 0.8658 - val_recall_m: 0.7608\n",
      "Epoch 24/50\n",
      "224/224 [==============================] - 0s 2ms/step - loss: 0.4653 - accuracy: 0.8217 - f1_m: 0.8189 - precision_m: 0.8743 - recall_m: 0.7707 - val_loss: 0.4921 - val_accuracy: 0.8125 - val_f1_m: 0.8005 - val_precision_m: 0.8636 - val_recall_m: 0.7464\n",
      "Epoch 25/50\n",
      "224/224 [==============================] - 0s 2ms/step - loss: 0.4624 - accuracy: 0.8184 - f1_m: 0.8174 - precision_m: 0.8745 - recall_m: 0.7677 - val_loss: 0.4938 - val_accuracy: 0.8141 - val_f1_m: 0.8148 - val_precision_m: 0.8662 - val_recall_m: 0.7694\n",
      "Epoch 26/50\n",
      "224/224 [==============================] - 0s 2ms/step - loss: 0.4509 - accuracy: 0.8252 - f1_m: 0.8238 - precision_m: 0.8777 - recall_m: 0.7766 - val_loss: 0.4870 - val_accuracy: 0.8160 - val_f1_m: 0.8099 - val_precision_m: 0.8767 - val_recall_m: 0.7530\n",
      "Epoch 27/50\n",
      "224/224 [==============================] - 0s 2ms/step - loss: 0.4467 - accuracy: 0.8283 - f1_m: 0.8246 - precision_m: 0.8801 - recall_m: 0.7762 - val_loss: 0.4885 - val_accuracy: 0.8183 - val_f1_m: 0.8188 - val_precision_m: 0.8629 - val_recall_m: 0.7793\n",
      "Epoch 28/50\n"
     ]
    },
    {
     "name": "stdout",
     "output_type": "stream",
     "text": [
      "224/224 [==============================] - 0s 2ms/step - loss: 0.4464 - accuracy: 0.8237 - f1_m: 0.8244 - precision_m: 0.8779 - recall_m: 0.7776 - val_loss: 0.4879 - val_accuracy: 0.8222 - val_f1_m: 0.8171 - val_precision_m: 0.8697 - val_recall_m: 0.7709\n",
      "Epoch 29/50\n",
      "224/224 [==============================] - 0s 2ms/step - loss: 0.4493 - accuracy: 0.8272 - f1_m: 0.8246 - precision_m: 0.8767 - recall_m: 0.7787 - val_loss: 0.4806 - val_accuracy: 0.8194 - val_f1_m: 0.8140 - val_precision_m: 0.8688 - val_recall_m: 0.7660\n",
      "Epoch 30/50\n",
      "224/224 [==============================] - 0s 2ms/step - loss: 0.4303 - accuracy: 0.8353 - f1_m: 0.8320 - precision_m: 0.8833 - recall_m: 0.7866 - val_loss: 0.4672 - val_accuracy: 0.8281 - val_f1_m: 0.8218 - val_precision_m: 0.8739 - val_recall_m: 0.7758\n",
      "Epoch 31/50\n",
      "224/224 [==============================] - 0s 2ms/step - loss: 0.4379 - accuracy: 0.8302 - f1_m: 0.8290 - precision_m: 0.8796 - recall_m: 0.7843 - val_loss: 0.4747 - val_accuracy: 0.8163 - val_f1_m: 0.8162 - val_precision_m: 0.8732 - val_recall_m: 0.7664\n",
      "Epoch 32/50\n",
      "224/224 [==============================] - 0s 2ms/step - loss: 0.4388 - accuracy: 0.8317 - f1_m: 0.8303 - precision_m: 0.8830 - recall_m: 0.7840 - val_loss: 0.4558 - val_accuracy: 0.8303 - val_f1_m: 0.8256 - val_precision_m: 0.8776 - val_recall_m: 0.7797\n",
      "Epoch 33/50\n",
      "224/224 [==============================] - 0s 2ms/step - loss: 0.4264 - accuracy: 0.8345 - f1_m: 0.8337 - precision_m: 0.8842 - recall_m: 0.7891 - val_loss: 0.4746 - val_accuracy: 0.8189 - val_f1_m: 0.8181 - val_precision_m: 0.8658 - val_recall_m: 0.7757\n",
      "Epoch 34/50\n",
      "224/224 [==============================] - 0s 2ms/step - loss: 0.4358 - accuracy: 0.8295 - f1_m: 0.8269 - precision_m: 0.8776 - recall_m: 0.7821 - val_loss: 0.4580 - val_accuracy: 0.8317 - val_f1_m: 0.8281 - val_precision_m: 0.8687 - val_recall_m: 0.7914\n",
      "Epoch 35/50\n",
      "224/224 [==============================] - 0s 2ms/step - loss: 0.4273 - accuracy: 0.8346 - f1_m: 0.8329 - precision_m: 0.8791 - recall_m: 0.7917 - val_loss: 0.4553 - val_accuracy: 0.8297 - val_f1_m: 0.8298 - val_precision_m: 0.8799 - val_recall_m: 0.7854\n",
      "Epoch 36/50\n",
      "224/224 [==============================] - 0s 2ms/step - loss: 0.4192 - accuracy: 0.8355 - f1_m: 0.8343 - precision_m: 0.8832 - recall_m: 0.7910 - val_loss: 0.4524 - val_accuracy: 0.8323 - val_f1_m: 0.8294 - val_precision_m: 0.8806 - val_recall_m: 0.7842\n",
      "Epoch 37/50\n",
      "224/224 [==============================] - 0s 2ms/step - loss: 0.4152 - accuracy: 0.8375 - f1_m: 0.8366 - precision_m: 0.8859 - recall_m: 0.7928 - val_loss: 0.4668 - val_accuracy: 0.8258 - val_f1_m: 0.8208 - val_precision_m: 0.8704 - val_recall_m: 0.7769\n",
      "Epoch 38/50\n",
      "224/224 [==============================] - 0s 2ms/step - loss: 0.4142 - accuracy: 0.8415 - f1_m: 0.8404 - precision_m: 0.8863 - recall_m: 0.7994 - val_loss: 0.4593 - val_accuracy: 0.8218 - val_f1_m: 0.8270 - val_precision_m: 0.8738 - val_recall_m: 0.7851\n",
      "Epoch 39/50\n",
      "224/224 [==============================] - 0s 2ms/step - loss: 0.4120 - accuracy: 0.8419 - f1_m: 0.8430 - precision_m: 0.8881 - recall_m: 0.8027 - val_loss: 0.4504 - val_accuracy: 0.8318 - val_f1_m: 0.8320 - val_precision_m: 0.8772 - val_recall_m: 0.7916\n",
      "Epoch 40/50\n",
      "224/224 [==============================] - 0s 2ms/step - loss: 0.4076 - accuracy: 0.8432 - f1_m: 0.8420 - precision_m: 0.8889 - recall_m: 0.8002 - val_loss: 0.4580 - val_accuracy: 0.8265 - val_f1_m: 0.8274 - val_precision_m: 0.8781 - val_recall_m: 0.7826\n",
      "Epoch 41/50\n",
      "224/224 [==============================] - 0s 2ms/step - loss: 0.4026 - accuracy: 0.8425 - f1_m: 0.8427 - precision_m: 0.8889 - recall_m: 0.8014 - val_loss: 0.4386 - val_accuracy: 0.8363 - val_f1_m: 0.8330 - val_precision_m: 0.8827 - val_recall_m: 0.7889\n",
      "Epoch 42/50\n",
      "224/224 [==============================] - 0s 2ms/step - loss: 0.3968 - accuracy: 0.8435 - f1_m: 0.8419 - precision_m: 0.8901 - recall_m: 0.7992 - val_loss: 0.4391 - val_accuracy: 0.8367 - val_f1_m: 0.8366 - val_precision_m: 0.8853 - val_recall_m: 0.7934\n",
      "Epoch 43/50\n",
      "224/224 [==============================] - 0s 2ms/step - loss: 0.3962 - accuracy: 0.8488 - f1_m: 0.8456 - precision_m: 0.8896 - recall_m: 0.8061 - val_loss: 0.4561 - val_accuracy: 0.8258 - val_f1_m: 0.8275 - val_precision_m: 0.8833 - val_recall_m: 0.7787\n",
      "Epoch 44/50\n",
      "224/224 [==============================] - 0s 2ms/step - loss: 0.4034 - accuracy: 0.8439 - f1_m: 0.8431 - precision_m: 0.8894 - recall_m: 0.8016 - val_loss: 0.4507 - val_accuracy: 0.8344 - val_f1_m: 0.8322 - val_precision_m: 0.8822 - val_recall_m: 0.7879\n",
      "Epoch 45/50\n",
      "224/224 [==============================] - 0s 2ms/step - loss: 0.4029 - accuracy: 0.8443 - f1_m: 0.8440 - precision_m: 0.8912 - recall_m: 0.8020 - val_loss: 0.4272 - val_accuracy: 0.8469 - val_f1_m: 0.8450 - val_precision_m: 0.8841 - val_recall_m: 0.8095\n",
      "Epoch 46/50\n",
      "224/224 [==============================] - 0s 2ms/step - loss: 0.3948 - accuracy: 0.8476 - f1_m: 0.8475 - precision_m: 0.8904 - recall_m: 0.8088 - val_loss: 0.4475 - val_accuracy: 0.8338 - val_f1_m: 0.8336 - val_precision_m: 0.8761 - val_recall_m: 0.7953\n",
      "Epoch 47/50\n",
      "224/224 [==============================] - 0s 2ms/step - loss: 0.3886 - accuracy: 0.8491 - f1_m: 0.8498 - precision_m: 0.8940 - recall_m: 0.8100 - val_loss: 0.4515 - val_accuracy: 0.8357 - val_f1_m: 0.8352 - val_precision_m: 0.8700 - val_recall_m: 0.8033\n",
      "Epoch 48/50\n",
      "224/224 [==============================] - 0s 2ms/step - loss: 0.3887 - accuracy: 0.8488 - f1_m: 0.8491 - precision_m: 0.8945 - recall_m: 0.8084 - val_loss: 0.4404 - val_accuracy: 0.8412 - val_f1_m: 0.8399 - val_precision_m: 0.8784 - val_recall_m: 0.8050\n",
      "Epoch 49/50\n",
      "224/224 [==============================] - 0s 2ms/step - loss: 0.3890 - accuracy: 0.8483 - f1_m: 0.8488 - precision_m: 0.8921 - recall_m: 0.8098 - val_loss: 0.4326 - val_accuracy: 0.8397 - val_f1_m: 0.8374 - val_precision_m: 0.8808 - val_recall_m: 0.7984\n",
      "Epoch 50/50\n",
      "224/224 [==============================] - 0s 2ms/step - loss: 0.3899 - accuracy: 0.8489 - f1_m: 0.8489 - precision_m: 0.8912 - recall_m: 0.8108 - val_loss: 0.4450 - val_accuracy: 0.8408 - val_f1_m: 0.8353 - val_precision_m: 0.8942 - val_recall_m: 0.7840\n"
     ]
    },
    {
     "data": {
      "text/plain": [
       "<keras.callbacks.History at 0x7f9032be68e0>"
      ]
     },
     "execution_count": 12,
     "metadata": {},
     "output_type": "execute_result"
    }
   ],
   "source": [
    "model.fit(X_train,np_utils.to_categorical(y_train),epochs = 50,validation_split=0.3, batch_size = 128)"
   ]
  },
  {
   "cell_type": "code",
   "execution_count": 13,
   "id": "dae5ce15",
   "metadata": {},
   "outputs": [],
   "source": [
    "y_pred = model.predict(X_test)"
   ]
  },
  {
   "cell_type": "code",
   "execution_count": 14,
   "id": "d5d6ddbc",
   "metadata": {},
   "outputs": [],
   "source": [
    "predicted = np.argmax(y_pred, axis=1)"
   ]
  },
  {
   "cell_type": "code",
   "execution_count": 15,
   "id": "56a6b8d9",
   "metadata": {},
   "outputs": [
    {
     "name": "stdout",
     "output_type": "stream",
     "text": [
      "0.8448617325606983\n"
     ]
    }
   ],
   "source": [
    "from sklearn.metrics import classification_report\n",
    "print(accuracy_score(y_test,predicted))"
   ]
  },
  {
   "cell_type": "code",
   "execution_count": 16,
   "id": "4201c62e",
   "metadata": {},
   "outputs": [
    {
     "name": "stdout",
     "output_type": "stream",
     "text": [
      "                            precision    recall  f1-score   support\n",
      "\n",
      "     Benign_list_big_final       0.95      0.93      0.94      2735\n",
      "DefacementSitesURLFiltered       0.78      0.73      0.75      2499\n",
      "           Malware_dataset       0.86      0.89      0.88      2834\n",
      "          phishing_dataset       0.77      0.75      0.76      2477\n",
      "              spam_dataset       0.84      0.90      0.87      3088\n",
      "\n",
      "                  accuracy                           0.84     13633\n",
      "                 macro avg       0.84      0.84      0.84     13633\n",
      "              weighted avg       0.84      0.84      0.84     13633\n",
      "\n"
     ]
    }
   ],
   "source": [
    "target_names = ['Benign','Defacement','Malware','Phishing','Spam']\n",
    "print(classification_report(y_test, predicted, target_names=target_names))"
   ]
  },
  {
   "cell_type": "code",
   "execution_count": null,
   "id": "3bd89af2",
   "metadata": {},
   "outputs": [],
   "source": [
    "os.chdir(\"../\")\n",
    "os.chdir(\"models\")\n",
    "model.save(\"Model_v1\")"
   ]
  }
 ],
 "metadata": {
  "kernelspec": {
   "display_name": "Python 3.8.0 64-bit",
   "language": "python",
   "name": "python38064bit1060d4750c904259afeb7847dfa8ded2"
  },
  "language_info": {
   "codemirror_mode": {
    "name": "ipython",
    "version": 3
   },
   "file_extension": ".py",
   "mimetype": "text/x-python",
   "name": "python",
   "nbconvert_exporter": "python",
   "pygments_lexer": "ipython3",
   "version": "3.9.2"
  },
  "toc": {
   "base_numbering": 1,
   "nav_menu": {},
   "number_sections": false,
   "sideBar": false,
   "skip_h1_title": false,
   "title_cell": "Table of Contents",
   "title_sidebar": "Contents",
   "toc_cell": false,
   "toc_position": {},
   "toc_section_display": false,
   "toc_window_display": false
  }
 },
 "nbformat": 4,
 "nbformat_minor": 5
}
