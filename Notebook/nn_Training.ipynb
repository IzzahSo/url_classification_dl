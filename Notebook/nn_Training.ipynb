{
 "cells": [
  {
   "cell_type": "code",
   "execution_count": 2,
   "id": "56ab5a5d",
   "metadata": {},
   "outputs": [],
   "source": [
    "import os\n",
    "os.chdir(\"../\")\n",
    "os.chdir(\"FinalDataset\")"
   ]
  },
  {
   "cell_type": "code",
   "execution_count": 3,
   "id": "c4854ed8",
   "metadata": {},
   "outputs": [
    {
     "data": {
      "text/plain": [
       "'C:\\\\Users\\\\SRIKANTH\\\\Documents\\\\GitHub\\\\url_classification_dl\\\\FinalDataset'"
      ]
     },
     "execution_count": 3,
     "metadata": {},
     "output_type": "execute_result"
    }
   ],
   "source": [
    "os.getcwd()"
   ]
  },
  {
   "cell_type": "code",
   "execution_count": 4,
   "id": "beb08b9b",
   "metadata": {},
   "outputs": [],
   "source": [
    "import pandas as pd\n",
    "import tensorflow as ts\n",
    "import numpy as np\n",
    "from sklearn.preprocessing import LabelEncoder\n",
    "from keras.utils.np_utils import to_categorical"
   ]
  },
  {
   "cell_type": "code",
   "execution_count": 23,
   "id": "810106ad",
   "metadata": {},
   "outputs": [],
   "source": [
    "from sklearn.metrics import accuracy_score"
   ]
  },
  {
   "cell_type": "code",
   "execution_count": 59,
   "id": "5b899a74",
   "metadata": {},
   "outputs": [],
   "source": [
    "from sklearn.preprocessing import MinMaxScaler"
   ]
  },
  {
   "cell_type": "code",
   "execution_count": 24,
   "id": "5f5f1147",
   "metadata": {},
   "outputs": [],
   "source": [
    "m = ts.keras.metrics.CategoricalAccuracy()"
   ]
  },
  {
   "cell_type": "code",
   "execution_count": 25,
   "id": "32c2c5b8",
   "metadata": {},
   "outputs": [],
   "source": [
    "from keras.wrappers.scikit_learn import KerasClassifier\n",
    "\n",
    "from keras.utils import np_utils\n",
    "\n",
    "from sklearn.model_selection import cross_val_score\n",
    "\n",
    "from sklearn.model_selection import KFold"
   ]
  },
  {
   "cell_type": "code",
   "execution_count": 26,
   "id": "baef99b4",
   "metadata": {},
   "outputs": [],
   "source": [
    "data = pd.read_csv(\"URL_features.csv\")"
   ]
  },
  {
   "cell_type": "code",
   "execution_count": 27,
   "id": "3888d885",
   "metadata": {},
   "outputs": [],
   "source": [
    "data.drop(columns='Unnamed: 0',inplace=True)\n",
    "'''\n",
    "data.replace('Benign_list_big_final',0,inplace=True)\n",
    "data.replace('DefacementSitesURLFiltered',1,inplace=True)\n",
    "data.replace('Malware_dataset',2,inplace=True)\n",
    "data.replace('phishing_dataset',3,inplace=True)\n",
    "data.replace('spam_dataset',4,inplace=True)\n",
    "'''\n",
    "data.replace(True,1,inplace = True)\n",
    "data.replace(False,0,inplace = True)\n",
    "y = data[\"File\"]\n",
    "data.drop(columns = \"ext\",inplace = True)"
   ]
  },
  {
   "cell_type": "code",
   "execution_count": 28,
   "id": "8ce508fa",
   "metadata": {},
   "outputs": [],
   "source": [
    "data = data.drop(columns = \"File\")"
   ]
  },
  {
   "cell_type": "code",
   "execution_count": 29,
   "id": "193fbb1b",
   "metadata": {},
   "outputs": [],
   "source": [
    "encoder = LabelEncoder()\n",
    "encoder.fit(y)\n",
    "Y = encoder.transform(y)"
   ]
  },
  {
   "cell_type": "code",
   "execution_count": 60,
   "id": "5883772e",
   "metadata": {},
   "outputs": [],
   "source": [
    "scaler = MinMaxScaler(feature_range=(0, 1))\n",
    "X = scaler.fit_transform(data)\n",
    "X = pd.DataFrame(X)"
   ]
  },
  {
   "cell_type": "code",
   "execution_count": 81,
   "id": "01d794db",
   "metadata": {},
   "outputs": [],
   "source": [
    "from keras import backend as K\n",
    "\n",
    "def recall_m(y_true, y_pred):\n",
    "    true_positives = K.sum(K.round(K.clip(y_true * y_pred, 0, 1)))\n",
    "    possible_positives = K.sum(K.round(K.clip(y_true, 0, 1)))\n",
    "    recall = true_positives / (possible_positives + K.epsilon())\n",
    "    return recall\n",
    "\n",
    "def precision_m(y_true, y_pred):\n",
    "    true_positives = K.sum(K.round(K.clip(y_true * y_pred, 0, 1)))\n",
    "    predicted_positives = K.sum(K.round(K.clip(y_pred, 0, 1)))\n",
    "    precision = true_positives / (predicted_positives + K.epsilon())\n",
    "    return precision\n",
    "\n",
    "def f1_m(y_true, y_pred):\n",
    "    precision = precision_m(y_true, y_pred)\n",
    "    recall = recall_m(y_true, y_pred)\n",
    "    return 2*((precision*recall)/(precision+recall+K.epsilon()))"
   ]
  },
  {
   "cell_type": "code",
   "execution_count": 82,
   "id": "cfda3014",
   "metadata": {},
   "outputs": [],
   "source": [
    "from keras.models import Sequential\n",
    "from keras.layers import LSTM, Dense, Dropout, Masking, Embedding\n",
    "\n",
    "input_dim = len(data.columns)\n",
    "model = Sequential()\n",
    "model.add(Dense(input_dim, input_dim = input_dim , activation = 'relu'))\n",
    "model.add(Dense(30, activation = 'relu'))\n",
    "model.add(Dense(25, activation = 'relu'))\n",
    "model.add(Dense(10, activation = 'relu'))\n",
    "model.add(Dense(5, activation = 'softmax'))\n",
    "\n",
    "\n",
    "\n",
    "model.compile(loss = 'categorical_crossentropy' , optimizer = 'adam' , metrics = ['accuracy',m,f1_m,precision_m, recall_m] )\n",
    "    "
   ]
  },
  {
   "cell_type": "code",
   "execution_count": 83,
   "id": "93d0c89c",
   "metadata": {},
   "outputs": [],
   "source": [
    "from sklearn.model_selection import train_test_split\n",
    "X_train, X_test, y_train, y_test = train_test_split(data, Y, test_size=0.25, random_state=42)"
   ]
  },
  {
   "cell_type": "code",
   "execution_count": 94,
   "id": "6539858b",
   "metadata": {},
   "outputs": [
    {
     "name": "stdout",
     "output_type": "stream",
     "text": [
      "Epoch 1/50\n",
      "679/679 [==============================] - 2s 3ms/step - loss: 0.5614 - accuracy: 0.8034 - categorical_accuracy: 0.8034 - f1_m: 0.8000 - precision_m: 0.8362 - recall_m: 0.7672 - val_loss: 0.5772 - val_accuracy: 0.8022 - val_categorical_accuracy: 0.8022 - val_f1_m: 0.7956 - val_precision_m: 0.8263 - val_recall_m: 0.7673\n",
      "Epoch 2/50\n",
      "679/679 [==============================] - 2s 3ms/step - loss: 0.5590 - accuracy: 0.8033 - categorical_accuracy: 0.8033 - f1_m: 0.8009 - precision_m: 0.8360 - recall_m: 0.7689 - val_loss: 0.5549 - val_accuracy: 0.8088 - val_categorical_accuracy: 0.8088 - val_f1_m: 0.8052 - val_precision_m: 0.8345 - val_recall_m: 0.7780\n",
      "Epoch 3/50\n",
      "679/679 [==============================] - 2s 3ms/step - loss: 0.5589 - accuracy: 0.8047 - categorical_accuracy: 0.8047 - f1_m: 0.8012 - precision_m: 0.8360 - recall_m: 0.7694 - val_loss: 0.5557 - val_accuracy: 0.8038 - val_categorical_accuracy: 0.8038 - val_f1_m: 0.8019 - val_precision_m: 0.8329 - val_recall_m: 0.7733\n",
      "Epoch 4/50\n",
      "679/679 [==============================] - 2s 3ms/step - loss: 0.5575 - accuracy: 0.8048 - categorical_accuracy: 0.8048 - f1_m: 0.8013 - precision_m: 0.8372 - recall_m: 0.7686 - val_loss: 0.5613 - val_accuracy: 0.8048 - val_categorical_accuracy: 0.8048 - val_f1_m: 0.8020 - val_precision_m: 0.8342 - val_recall_m: 0.7723\n",
      "Epoch 5/50\n",
      "679/679 [==============================] - 2s 3ms/step - loss: 0.5564 - accuracy: 0.8058 - categorical_accuracy: 0.8058 - f1_m: 0.8024 - precision_m: 0.8371 - recall_m: 0.7707 - val_loss: 0.5707 - val_accuracy: 0.7972 - val_categorical_accuracy: 0.7972 - val_f1_m: 0.7934 - val_precision_m: 0.8323 - val_recall_m: 0.7583\n",
      "Epoch 6/50\n",
      "679/679 [==============================] - 2s 3ms/step - loss: 0.5569 - accuracy: 0.8051 - categorical_accuracy: 0.8051 - f1_m: 0.8015 - precision_m: 0.8369 - recall_m: 0.7692 - val_loss: 0.5544 - val_accuracy: 0.8081 - val_categorical_accuracy: 0.8081 - val_f1_m: 0.8063 - val_precision_m: 0.8364 - val_recall_m: 0.7786\n",
      "Epoch 7/50\n",
      "679/679 [==============================] - 2s 3ms/step - loss: 0.5565 - accuracy: 0.8059 - categorical_accuracy: 0.8059 - f1_m: 0.8022 - precision_m: 0.8372 - recall_m: 0.7702 - val_loss: 0.5507 - val_accuracy: 0.8104 - val_categorical_accuracy: 0.8104 - val_f1_m: 0.8058 - val_precision_m: 0.8428 - val_recall_m: 0.7722\n",
      "Epoch 8/50\n",
      "679/679 [==============================] - 2s 3ms/step - loss: 0.5552 - accuracy: 0.8056 - categorical_accuracy: 0.8056 - f1_m: 0.8022 - precision_m: 0.8369 - recall_m: 0.7706 - val_loss: 0.5508 - val_accuracy: 0.8101 - val_categorical_accuracy: 0.8101 - val_f1_m: 0.8081 - val_precision_m: 0.8373 - val_recall_m: 0.7810\n",
      "Epoch 9/50\n",
      "679/679 [==============================] - 2s 3ms/step - loss: 0.5541 - accuracy: 0.8072 - categorical_accuracy: 0.8072 - f1_m: 0.8039 - precision_m: 0.8378 - recall_m: 0.7729 - val_loss: 0.5531 - val_accuracy: 0.8047 - val_categorical_accuracy: 0.8047 - val_f1_m: 0.8017 - val_precision_m: 0.8322 - val_recall_m: 0.7735\n",
      "Epoch 10/50\n",
      "679/679 [==============================] - 2s 3ms/step - loss: 0.5536 - accuracy: 0.8067 - categorical_accuracy: 0.8067 - f1_m: 0.8042 - precision_m: 0.8381 - recall_m: 0.7732 - val_loss: 0.5515 - val_accuracy: 0.8073 - val_categorical_accuracy: 0.8073 - val_f1_m: 0.8051 - val_precision_m: 0.8375 - val_recall_m: 0.7753\n",
      "Epoch 11/50\n",
      "679/679 [==============================] - 2s 3ms/step - loss: 0.5522 - accuracy: 0.8065 - categorical_accuracy: 0.8065 - f1_m: 0.8034 - precision_m: 0.8376 - recall_m: 0.7722 - val_loss: 0.5640 - val_accuracy: 0.7967 - val_categorical_accuracy: 0.7967 - val_f1_m: 0.7941 - val_precision_m: 0.8308 - val_recall_m: 0.7608\n",
      "Epoch 12/50\n",
      "679/679 [==============================] - 2s 3ms/step - loss: 0.5512 - accuracy: 0.8079 - categorical_accuracy: 0.8079 - f1_m: 0.8048 - precision_m: 0.8380 - recall_m: 0.7743 - val_loss: 0.5612 - val_accuracy: 0.8022 - val_categorical_accuracy: 0.8022 - val_f1_m: 0.8012 - val_precision_m: 0.8393 - val_recall_m: 0.7667\n",
      "Epoch 13/50\n",
      "679/679 [==============================] - 2s 3ms/step - loss: 0.5516 - accuracy: 0.8079 - categorical_accuracy: 0.8079 - f1_m: 0.8048 - precision_m: 0.8387 - recall_m: 0.7739 - val_loss: 0.5474 - val_accuracy: 0.8103 - val_categorical_accuracy: 0.8103 - val_f1_m: 0.8077 - val_precision_m: 0.8405 - val_recall_m: 0.7775\n",
      "Epoch 14/50\n",
      "679/679 [==============================] - 2s 3ms/step - loss: 0.5548 - accuracy: 0.8062 - categorical_accuracy: 0.8062 - f1_m: 0.8038 - precision_m: 0.8378 - recall_m: 0.7728 - val_loss: 0.5600 - val_accuracy: 0.8054 - val_categorical_accuracy: 0.8054 - val_f1_m: 0.8013 - val_precision_m: 0.8285 - val_recall_m: 0.7760\n",
      "Epoch 15/50\n",
      "679/679 [==============================] - 2s 3ms/step - loss: 0.5486 - accuracy: 0.8084 - categorical_accuracy: 0.8084 - f1_m: 0.8057 - precision_m: 0.8393 - recall_m: 0.7750 - val_loss: 0.5515 - val_accuracy: 0.8096 - val_categorical_accuracy: 0.8096 - val_f1_m: 0.8082 - val_precision_m: 0.8365 - val_recall_m: 0.7819\n",
      "Epoch 16/50\n",
      "679/679 [==============================] - 2s 3ms/step - loss: 0.5484 - accuracy: 0.8082 - categorical_accuracy: 0.8082 - f1_m: 0.8062 - precision_m: 0.8393 - recall_m: 0.7758 - val_loss: 0.5542 - val_accuracy: 0.8070 - val_categorical_accuracy: 0.8070 - val_f1_m: 0.8037 - val_precision_m: 0.8333 - val_recall_m: 0.7763\n",
      "Epoch 17/50\n",
      "679/679 [==============================] - 2s 3ms/step - loss: 0.5491 - accuracy: 0.8089 - categorical_accuracy: 0.8089 - f1_m: 0.8058 - precision_m: 0.8392 - recall_m: 0.7753 - val_loss: 0.5547 - val_accuracy: 0.8069 - val_categorical_accuracy: 0.8069 - val_f1_m: 0.8046 - val_precision_m: 0.8342 - val_recall_m: 0.7773\n",
      "Epoch 18/50\n",
      "679/679 [==============================] - 2s 3ms/step - loss: 0.5496 - accuracy: 0.8082 - categorical_accuracy: 0.8082 - f1_m: 0.8054 - precision_m: 0.8380 - recall_m: 0.7754 - val_loss: 0.5630 - val_accuracy: 0.8014 - val_categorical_accuracy: 0.8014 - val_f1_m: 0.7987 - val_precision_m: 0.8342 - val_recall_m: 0.7664\n",
      "Epoch 19/50\n",
      "679/679 [==============================] - 2s 3ms/step - loss: 0.5474 - accuracy: 0.8085 - categorical_accuracy: 0.8085 - f1_m: 0.8059 - precision_m: 0.8389 - recall_m: 0.7757 - val_loss: 0.5603 - val_accuracy: 0.8071 - val_categorical_accuracy: 0.8071 - val_f1_m: 0.8021 - val_precision_m: 0.8432 - val_recall_m: 0.7652\n",
      "Epoch 20/50\n",
      "679/679 [==============================] - 2s 3ms/step - loss: 0.5460 - accuracy: 0.8104 - categorical_accuracy: 0.8104 - f1_m: 0.8079 - precision_m: 0.8407 - recall_m: 0.7778 - val_loss: 0.5490 - val_accuracy: 0.8107 - val_categorical_accuracy: 0.8107 - val_f1_m: 0.8053 - val_precision_m: 0.8363 - val_recall_m: 0.7767\n",
      "Epoch 21/50\n",
      "679/679 [==============================] - 2s 3ms/step - loss: 0.5458 - accuracy: 0.8099 - categorical_accuracy: 0.8099 - f1_m: 0.8067 - precision_m: 0.8398 - recall_m: 0.7764 - val_loss: 0.5569 - val_accuracy: 0.8029 - val_categorical_accuracy: 0.8029 - val_f1_m: 0.8005 - val_precision_m: 0.8358 - val_recall_m: 0.7682\n",
      "Epoch 22/50\n",
      "679/679 [==============================] - 2s 3ms/step - loss: 0.5474 - accuracy: 0.8095 - categorical_accuracy: 0.8095 - f1_m: 0.8067 - precision_m: 0.8404 - recall_m: 0.7759 - val_loss: 0.5439 - val_accuracy: 0.8095 - val_categorical_accuracy: 0.8095 - val_f1_m: 0.8070 - val_precision_m: 0.8331 - val_recall_m: 0.7826\n",
      "Epoch 23/50\n",
      "679/679 [==============================] - 2s 3ms/step - loss: 0.5470 - accuracy: 0.8079 - categorical_accuracy: 0.8079 - f1_m: 0.8061 - precision_m: 0.8385 - recall_m: 0.7763 - val_loss: 0.5580 - val_accuracy: 0.8062 - val_categorical_accuracy: 0.8062 - val_f1_m: 0.8029 - val_precision_m: 0.8289 - val_recall_m: 0.7787\n",
      "Epoch 24/50\n",
      "679/679 [==============================] - 2s 3ms/step - loss: 0.5447 - accuracy: 0.8097 - categorical_accuracy: 0.8097 - f1_m: 0.8072 - precision_m: 0.8397 - recall_m: 0.7774 - val_loss: 0.5453 - val_accuracy: 0.8087 - val_categorical_accuracy: 0.8087 - val_f1_m: 0.8069 - val_precision_m: 0.8353 - val_recall_m: 0.7806\n",
      "Epoch 25/50\n",
      "679/679 [==============================] - 2s 3ms/step - loss: 0.5450 - accuracy: 0.8098 - categorical_accuracy: 0.8098 - f1_m: 0.8071 - precision_m: 0.8403 - recall_m: 0.7768 - val_loss: 0.5646 - val_accuracy: 0.8044 - val_categorical_accuracy: 0.8044 - val_f1_m: 0.8007 - val_precision_m: 0.8341 - val_recall_m: 0.7701\n"
     ]
    },
    {
     "name": "stdout",
     "output_type": "stream",
     "text": [
      "Epoch 26/50\n",
      "679/679 [==============================] - 2s 3ms/step - loss: 0.5450 - accuracy: 0.8103 - categorical_accuracy: 0.8103 - f1_m: 0.8077 - precision_m: 0.8400 - recall_m: 0.7781 - val_loss: 0.5361 - val_accuracy: 0.8120 - val_categorical_accuracy: 0.8120 - val_f1_m: 0.8110 - val_precision_m: 0.8408 - val_recall_m: 0.7834\n",
      "Epoch 27/50\n",
      "679/679 [==============================] - 2s 3ms/step - loss: 0.5426 - accuracy: 0.8114 - categorical_accuracy: 0.8114 - f1_m: 0.8085 - precision_m: 0.8409 - recall_m: 0.7788 - val_loss: 0.5446 - val_accuracy: 0.8084 - val_categorical_accuracy: 0.8084 - val_f1_m: 0.8043 - val_precision_m: 0.8378 - val_recall_m: 0.7736\n",
      "Epoch 28/50\n",
      "679/679 [==============================] - 2s 3ms/step - loss: 0.5430 - accuracy: 0.8104 - categorical_accuracy: 0.8104 - f1_m: 0.8085 - precision_m: 0.8409 - recall_m: 0.7788 - val_loss: 0.5451 - val_accuracy: 0.8074 - val_categorical_accuracy: 0.8074 - val_f1_m: 0.8027 - val_precision_m: 0.8379 - val_recall_m: 0.7706\n",
      "Epoch 29/50\n",
      "679/679 [==============================] - 2s 3ms/step - loss: 0.5428 - accuracy: 0.8100 - categorical_accuracy: 0.8100 - f1_m: 0.8068 - precision_m: 0.8402 - recall_m: 0.7763 - val_loss: 0.5360 - val_accuracy: 0.8124 - val_categorical_accuracy: 0.8124 - val_f1_m: 0.8111 - val_precision_m: 0.8409 - val_recall_m: 0.7836\n",
      "Epoch 30/50\n",
      "679/679 [==============================] - 2s 3ms/step - loss: 0.5434 - accuracy: 0.8107 - categorical_accuracy: 0.8107 - f1_m: 0.8087 - precision_m: 0.8417 - recall_m: 0.7785 - val_loss: 0.5460 - val_accuracy: 0.8072 - val_categorical_accuracy: 0.8072 - val_f1_m: 0.8063 - val_precision_m: 0.8334 - val_recall_m: 0.7810\n",
      "Epoch 31/50\n",
      "679/679 [==============================] - 2s 3ms/step - loss: 0.5404 - accuracy: 0.8103 - categorical_accuracy: 0.8103 - f1_m: 0.8082 - precision_m: 0.8404 - recall_m: 0.7786 - val_loss: 0.5420 - val_accuracy: 0.8117 - val_categorical_accuracy: 0.8117 - val_f1_m: 0.8085 - val_precision_m: 0.8435 - val_recall_m: 0.7766\n",
      "Epoch 32/50\n",
      "679/679 [==============================] - 2s 3ms/step - loss: 0.5412 - accuracy: 0.8107 - categorical_accuracy: 0.8107 - f1_m: 0.8084 - precision_m: 0.8400 - recall_m: 0.7792 - val_loss: 0.5479 - val_accuracy: 0.8081 - val_categorical_accuracy: 0.8081 - val_f1_m: 0.8056 - val_precision_m: 0.8355 - val_recall_m: 0.7780\n",
      "Epoch 33/50\n",
      "679/679 [==============================] - 2s 3ms/step - loss: 0.5419 - accuracy: 0.8097 - categorical_accuracy: 0.8097 - f1_m: 0.8084 - precision_m: 0.8404 - recall_m: 0.7791 - val_loss: 0.5492 - val_accuracy: 0.8089 - val_categorical_accuracy: 0.8089 - val_f1_m: 0.8062 - val_precision_m: 0.8383 - val_recall_m: 0.7768\n",
      "Epoch 34/50\n",
      "679/679 [==============================] - 2s 3ms/step - loss: 0.5399 - accuracy: 0.8120 - categorical_accuracy: 0.8120 - f1_m: 0.8096 - precision_m: 0.8413 - recall_m: 0.7806 - val_loss: 0.5465 - val_accuracy: 0.8101 - val_categorical_accuracy: 0.8101 - val_f1_m: 0.8092 - val_precision_m: 0.8452 - val_recall_m: 0.7763\n",
      "Epoch 35/50\n",
      "679/679 [==============================] - 2s 3ms/step - loss: 0.5402 - accuracy: 0.8111 - categorical_accuracy: 0.8111 - f1_m: 0.8097 - precision_m: 0.8418 - recall_m: 0.7801 - val_loss: 0.5425 - val_accuracy: 0.8120 - val_categorical_accuracy: 0.8120 - val_f1_m: 0.8107 - val_precision_m: 0.8426 - val_recall_m: 0.7814\n",
      "Epoch 36/50\n",
      "679/679 [==============================] - 2s 3ms/step - loss: 0.5398 - accuracy: 0.8117 - categorical_accuracy: 0.8117 - f1_m: 0.8092 - precision_m: 0.8409 - recall_m: 0.7801 - val_loss: 0.5369 - val_accuracy: 0.8131 - val_categorical_accuracy: 0.8131 - val_f1_m: 0.8121 - val_precision_m: 0.8407 - val_recall_m: 0.7854\n",
      "Epoch 37/50\n",
      "679/679 [==============================] - 2s 3ms/step - loss: 0.5394 - accuracy: 0.8119 - categorical_accuracy: 0.8119 - f1_m: 0.8097 - precision_m: 0.8419 - recall_m: 0.7802 - val_loss: 0.5364 - val_accuracy: 0.8128 - val_categorical_accuracy: 0.8128 - val_f1_m: 0.8136 - val_precision_m: 0.8434 - val_recall_m: 0.7860\n",
      "Epoch 38/50\n",
      "679/679 [==============================] - 2s 3ms/step - loss: 0.5397 - accuracy: 0.8115 - categorical_accuracy: 0.8115 - f1_m: 0.8094 - precision_m: 0.8415 - recall_m: 0.7799 - val_loss: 0.5419 - val_accuracy: 0.8101 - val_categorical_accuracy: 0.8101 - val_f1_m: 0.8096 - val_precision_m: 0.8368 - val_recall_m: 0.7842\n",
      "Epoch 39/50\n",
      "679/679 [==============================] - 2s 3ms/step - loss: 0.5377 - accuracy: 0.8131 - categorical_accuracy: 0.8131 - f1_m: 0.8110 - precision_m: 0.8430 - recall_m: 0.7815 - val_loss: 0.5417 - val_accuracy: 0.8126 - val_categorical_accuracy: 0.8126 - val_f1_m: 0.8116 - val_precision_m: 0.8390 - val_recall_m: 0.7861\n",
      "Epoch 40/50\n",
      "679/679 [==============================] - 2s 3ms/step - loss: 0.5379 - accuracy: 0.8109 - categorical_accuracy: 0.8109 - f1_m: 0.8100 - precision_m: 0.8413 - recall_m: 0.7811 - val_loss: 0.5443 - val_accuracy: 0.8076 - val_categorical_accuracy: 0.8076 - val_f1_m: 0.8084 - val_precision_m: 0.8340 - val_recall_m: 0.7845\n",
      "Epoch 41/50\n",
      "679/679 [==============================] - 2s 3ms/step - loss: 0.5390 - accuracy: 0.8115 - categorical_accuracy: 0.8115 - f1_m: 0.8092 - precision_m: 0.8404 - recall_m: 0.7805 - val_loss: 0.5335 - val_accuracy: 0.8124 - val_categorical_accuracy: 0.8124 - val_f1_m: 0.8105 - val_precision_m: 0.8425 - val_recall_m: 0.7811\n",
      "Epoch 42/50\n",
      "679/679 [==============================] - 2s 3ms/step - loss: 0.5354 - accuracy: 0.8126 - categorical_accuracy: 0.8126 - f1_m: 0.8108 - precision_m: 0.8424 - recall_m: 0.7818 - val_loss: 0.5445 - val_accuracy: 0.8091 - val_categorical_accuracy: 0.8091 - val_f1_m: 0.8062 - val_precision_m: 0.8388 - val_recall_m: 0.7763\n",
      "Epoch 43/50\n",
      "679/679 [==============================] - 2s 3ms/step - loss: 0.5363 - accuracy: 0.8129 - categorical_accuracy: 0.8129 - f1_m: 0.8108 - precision_m: 0.8420 - recall_m: 0.7822 - val_loss: 0.5357 - val_accuracy: 0.8147 - val_categorical_accuracy: 0.8147 - val_f1_m: 0.8132 - val_precision_m: 0.8397 - val_recall_m: 0.7886\n",
      "Epoch 44/50\n",
      "679/679 [==============================] - 2s 3ms/step - loss: 0.5363 - accuracy: 0.8122 - categorical_accuracy: 0.8122 - f1_m: 0.8108 - precision_m: 0.8419 - recall_m: 0.7823 - val_loss: 0.5421 - val_accuracy: 0.8119 - val_categorical_accuracy: 0.8119 - val_f1_m: 0.8093 - val_precision_m: 0.8413 - val_recall_m: 0.7799\n",
      "Epoch 45/50\n",
      "679/679 [==============================] - 2s 3ms/step - loss: 0.5375 - accuracy: 0.8119 - categorical_accuracy: 0.8119 - f1_m: 0.8112 - precision_m: 0.8424 - recall_m: 0.7824 - val_loss: 0.5644 - val_accuracy: 0.8088 - val_categorical_accuracy: 0.8088 - val_f1_m: 0.8051 - val_precision_m: 0.8321 - val_recall_m: 0.7799\n",
      "Epoch 46/50\n",
      "679/679 [==============================] - 2s 3ms/step - loss: 0.5351 - accuracy: 0.8132 - categorical_accuracy: 0.8132 - f1_m: 0.8113 - precision_m: 0.8426 - recall_m: 0.7825 - val_loss: 0.5329 - val_accuracy: 0.8129 - val_categorical_accuracy: 0.8129 - val_f1_m: 0.8125 - val_precision_m: 0.8447 - val_recall_m: 0.7829\n",
      "Epoch 47/50\n",
      "679/679 [==============================] - 2s 3ms/step - loss: 0.5361 - accuracy: 0.8126 - categorical_accuracy: 0.8126 - f1_m: 0.8115 - precision_m: 0.8431 - recall_m: 0.7825 - val_loss: 0.5341 - val_accuracy: 0.8143 - val_categorical_accuracy: 0.8143 - val_f1_m: 0.8148 - val_precision_m: 0.8438 - val_recall_m: 0.7880\n",
      "Epoch 48/50\n",
      "679/679 [==============================] - 2s 3ms/step - loss: 0.5362 - accuracy: 0.8136 - categorical_accuracy: 0.8136 - f1_m: 0.8125 - precision_m: 0.8436 - recall_m: 0.7839 - val_loss: 0.5323 - val_accuracy: 0.8148 - val_categorical_accuracy: 0.8148 - val_f1_m: 0.8156 - val_precision_m: 0.8446 - val_recall_m: 0.7888\n",
      "Epoch 49/50\n",
      "679/679 [==============================] - 2s 3ms/step - loss: 0.5348 - accuracy: 0.8128 - categorical_accuracy: 0.8128 - f1_m: 0.8111 - precision_m: 0.8425 - recall_m: 0.7822 - val_loss: 0.5389 - val_accuracy: 0.8146 - val_categorical_accuracy: 0.8146 - val_f1_m: 0.8135 - val_precision_m: 0.8437 - val_recall_m: 0.7856\n",
      "Epoch 50/50\n",
      "679/679 [==============================] - 2s 3ms/step - loss: 0.5364 - accuracy: 0.8134 - categorical_accuracy: 0.8134 - f1_m: 0.8111 - precision_m: 0.8418 - recall_m: 0.7828 - val_loss: 0.5428 - val_accuracy: 0.8146 - val_categorical_accuracy: 0.8146 - val_f1_m: 0.8106 - val_precision_m: 0.8485 - val_recall_m: 0.7762\n"
     ]
    },
    {
     "data": {
      "text/plain": [
       "<tensorflow.python.keras.callbacks.History at 0x206553951f0>"
      ]
     },
     "execution_count": 94,
     "metadata": {},
     "output_type": "execute_result"
    }
   ],
   "source": [
    "model.fit(X_train,np_utils.to_categorical(y_train),epochs = 50,validation_split=0.3, batch_size = 128)"
   ]
  },
  {
   "cell_type": "code",
   "execution_count": 95,
   "id": "3cdd7b5d",
   "metadata": {},
   "outputs": [],
   "source": [
    "y_pred = model.predict(X_test)"
   ]
  },
  {
   "cell_type": "code",
   "execution_count": 96,
   "id": "4cba9bc9",
   "metadata": {},
   "outputs": [],
   "source": [
    "predicted = np.argmax(y_pred, axis=1)"
   ]
  },
  {
   "cell_type": "code",
   "execution_count": 97,
   "id": "3b3a7bfd",
   "metadata": {},
   "outputs": [
    {
     "data": {
      "text/plain": [
       "0.8135552222921001"
      ]
     },
     "execution_count": 97,
     "metadata": {},
     "output_type": "execute_result"
    }
   ],
   "source": [
    "from sklearn.metrics import classification_report\n",
    "accuracy_score(y_test,predicted)"
   ]
  },
  {
   "cell_type": "code",
   "execution_count": 98,
   "id": "9bdc89db",
   "metadata": {},
   "outputs": [
    {
     "name": "stdout",
     "output_type": "stream",
     "text": [
      "                            precision    recall  f1-score   support\n",
      "\n",
      "     Benign_list_big_final       0.81      0.84      0.82      8903\n",
      "DefacementSitesURLFiltered       0.84      0.93      0.88     23970\n",
      "           Malware_dataset       0.80      0.52      0.63      2864\n",
      "          phishing_dataset       0.46      0.24      0.31      2493\n",
      "              spam_dataset       0.72      0.61      0.66      3112\n",
      "\n",
      "                  accuracy                           0.81     41342\n",
      "                 macro avg       0.73      0.63      0.66     41342\n",
      "              weighted avg       0.80      0.81      0.80     41342\n",
      "\n"
     ]
    }
   ],
   "source": [
    "target_names = ['Benign_list_big_final','DefacementSitesURLFiltered','Malware_dataset','phishing_dataset','spam_dataset']\n",
    "print(classification_report(y_test, predicted, target_names=target_names))"
   ]
  },
  {
   "cell_type": "code",
   "execution_count": 103,
   "id": "87f1baba",
   "metadata": {},
   "outputs": [
    {
     "name": "stdout",
     "output_type": "stream",
     "text": [
      "INFO:tensorflow:Assets written to: nn1\\assets\n"
     ]
    }
   ],
   "source": [
    "model.save(\"nn1\")"
   ]
  },
  {
   "cell_type": "code",
   "execution_count": null,
   "id": "a765ce27",
   "metadata": {},
   "outputs": [],
   "source": []
  }
 ],
 "metadata": {
  "kernelspec": {
   "display_name": "TF-GPU",
   "language": "python",
   "name": "tensorflow"
  },
  "language_info": {
   "codemirror_mode": {
    "name": "ipython",
    "version": 3
   },
   "file_extension": ".py",
   "mimetype": "text/x-python",
   "name": "python",
   "nbconvert_exporter": "python",
   "pygments_lexer": "ipython3",
   "version": "3.8.8"
  },
  "toc": {
   "base_numbering": 1,
   "nav_menu": {},
   "number_sections": false,
   "sideBar": false,
   "skip_h1_title": false,
   "title_cell": "Table of Contents",
   "title_sidebar": "Contents",
   "toc_cell": false,
   "toc_position": {},
   "toc_section_display": false,
   "toc_window_display": false
  }
 },
 "nbformat": 4,
 "nbformat_minor": 5
}
