{
 "cells": [
  {
   "cell_type": "code",
   "execution_count": 1,
   "id": "3bf617c2",
   "metadata": {},
   "outputs": [],
   "source": [
    "import os\n",
    "os.chdir(\"../\")\n",
    "os.chdir(\"FinalDataset\")"
   ]
  },
  {
   "cell_type": "code",
   "execution_count": 2,
   "id": "dda4bb1f",
   "metadata": {},
   "outputs": [
    {
     "data": {
      "text/plain": [
       "'/Volumes/Rohith/url_classification_dl/FinalDataset'"
      ]
     },
     "execution_count": 2,
     "metadata": {},
     "output_type": "execute_result"
    }
   ],
   "source": [
    "os.getcwd()"
   ]
  },
  {
   "cell_type": "code",
   "execution_count": 3,
   "id": "26341fc7",
   "metadata": {},
   "outputs": [
    {
     "name": "stdout",
     "output_type": "stream",
     "text": [
      "INFO:tensorflow:Enabling eager execution\n",
      "INFO:tensorflow:Enabling v2 tensorshape\n",
      "INFO:tensorflow:Enabling resource variables\n",
      "INFO:tensorflow:Enabling tensor equality\n",
      "INFO:tensorflow:Enabling control flow v2\n"
     ]
    }
   ],
   "source": [
    "import pandas as pd\n",
    "import tensorflow as ts\n",
    "import numpy as np\n",
    "from sklearn.preprocessing import LabelEncoder\n",
    "from keras.utils.np_utils import to_categorical"
   ]
  },
  {
   "cell_type": "code",
   "execution_count": 4,
   "id": "396fd517",
   "metadata": {},
   "outputs": [],
   "source": [
    "from sklearn.metrics import accuracy_score,f1_score,precision_score,recall_score"
   ]
  },
  {
   "cell_type": "code",
   "execution_count": 5,
   "id": "6466e595",
   "metadata": {},
   "outputs": [],
   "source": [
    "from sklearn.preprocessing import MinMaxScaler"
   ]
  },
  {
   "cell_type": "code",
   "execution_count": 6,
   "id": "aae5257a",
   "metadata": {},
   "outputs": [],
   "source": [
    "m = ts.keras.metrics.CategoricalAccuracy()"
   ]
  },
  {
   "cell_type": "code",
   "execution_count": 7,
   "id": "920e14e1",
   "metadata": {},
   "outputs": [],
   "source": [
    "from keras.wrappers.scikit_learn import KerasClassifier\n",
    "\n",
    "from keras.utils import np_utils\n",
    "\n",
    "from sklearn.model_selection import cross_val_score\n",
    "\n",
    "from sklearn.model_selection import KFold"
   ]
  },
  {
   "cell_type": "code",
   "execution_count": 13,
   "id": "ddf664c2",
   "metadata": {},
   "outputs": [],
   "source": [
    "data = pd.read_csv(\"feature.csv\")"
   ]
  },
  {
   "cell_type": "code",
   "execution_count": 14,
   "id": "1dde9181",
   "metadata": {},
   "outputs": [],
   "source": [
    "data.drop(columns='Unnamed: 0',inplace=True)\n",
    "data.replace(True,1,inplace = True)\n",
    "data.replace(False,0,inplace = True)\n",
    "y = data[\"File\"]"
   ]
  },
  {
   "cell_type": "code",
   "execution_count": 15,
   "id": "622ca9de",
   "metadata": {},
   "outputs": [],
   "source": [
    "data = data.drop(columns = \"File\")"
   ]
  },
  {
   "cell_type": "code",
   "execution_count": 63,
   "id": "877fb34b",
   "metadata": {},
   "outputs": [],
   "source": [
    "encoder = LabelEncoder()\n",
    "encoder.fit(y)\n",
    "Y = encoder.transform(y)"
   ]
  },
  {
   "cell_type": "code",
   "execution_count": 17,
   "id": "7e4374ff",
   "metadata": {},
   "outputs": [],
   "source": [
    "scaler = MinMaxScaler(feature_range=(0, 1))\n",
    "X = scaler.fit_transform(data)\n",
    "X = pd.DataFrame(X)"
   ]
  },
  {
   "cell_type": "code",
   "execution_count": 18,
   "id": "b3091e1f",
   "metadata": {},
   "outputs": [],
   "source": [
    "from keras import backend as K\n",
    "\n",
    "def recall_m(y_true, y_pred):\n",
    "    true_positives = K.sum(K.round(K.clip(y_true * y_pred, 0, 1)))\n",
    "    possible_positives = K.sum(K.round(K.clip(y_true, 0, 1)))\n",
    "    recall = true_positives / (possible_positives + K.epsilon())\n",
    "    return recall\n",
    "\n",
    "def precision_m(y_true, y_pred):\n",
    "    true_positives = K.sum(K.round(K.clip(y_true * y_pred, 0, 1)))\n",
    "    predicted_positives = K.sum(K.round(K.clip(y_pred, 0, 1)))\n",
    "    precision = true_positives / (predicted_positives + K.epsilon())\n",
    "    return precision\n",
    "\n",
    "def f1_m(y_true, y_pred):\n",
    "    precision = precision_m(y_true, y_pred)\n",
    "    recall = recall_m(y_true, y_pred)\n",
    "    return 2*((precision*recall)/(precision+recall+K.epsilon()))"
   ]
  },
  {
   "cell_type": "code",
   "execution_count": 49,
   "id": "90a10a51",
   "metadata": {},
   "outputs": [],
   "source": [
    "from keras.models import Sequential\n",
    "from keras.layers import LSTM, Dense, Dropout, Masking, Embedding\n",
    "\n",
    "input_dim = len(data.columns)\n",
    "model = Sequential()\n",
    "model.add(Dense(128, input_dim = input_dim , activation = 'relu'))\n",
    "model.add(Dense(64, activation = 'relu'))\n",
    "model.add(Dense(32, activation = 'relu'))\n",
    "model.add(Dense(16, activation = 'relu'))\n",
    "model.add(Dense(5, activation = 'softmax'))\n",
    "\n",
    "model.compile(loss = 'categorical_crossentropy' , optimizer = 'adam' , metrics = ['accuracy',f1_m,precision_m, recall_m] )\n",
    "    "
   ]
  },
  {
   "cell_type": "code",
   "execution_count": 50,
   "id": "dfa3135c",
   "metadata": {},
   "outputs": [],
   "source": [
    "from sklearn.model_selection import train_test_split\n",
    "X_train, X_test, y_train, y_test = train_test_split(X, Y, test_size=0.25, random_state=42)"
   ]
  },
  {
   "cell_type": "code",
   "execution_count": 51,
   "id": "c0ebd0ca",
   "metadata": {},
   "outputs": [
    {
     "name": "stdout",
     "output_type": "stream",
     "text": [
      "Epoch 1/24\n",
      "224/224 [==============================] - 2s 3ms/step - loss: 1.4561 - accuracy: 0.3635 - f1_m: 0.0994 - precision_m: 0.4068 - recall_m: 0.0616 - val_loss: 1.0443 - val_accuracy: 0.5627 - val_f1_m: 0.4907 - val_precision_m: 0.8005 - val_recall_m: 0.3547\n",
      "Epoch 2/24\n",
      "224/224 [==============================] - 0s 1ms/step - loss: 1.0182 - accuracy: 0.5767 - f1_m: 0.5264 - precision_m: 0.7863 - recall_m: 0.3982 - val_loss: 0.9311 - val_accuracy: 0.6079 - val_f1_m: 0.5999 - val_precision_m: 0.8124 - val_recall_m: 0.4763\n",
      "Epoch 3/24\n",
      "224/224 [==============================] - 0s 1ms/step - loss: 0.9267 - accuracy: 0.6184 - f1_m: 0.6089 - precision_m: 0.7961 - recall_m: 0.4939 - val_loss: 0.8830 - val_accuracy: 0.6206 - val_f1_m: 0.6341 - val_precision_m: 0.7953 - val_recall_m: 0.5279\n",
      "Epoch 4/24\n",
      "224/224 [==============================] - 0s 1ms/step - loss: 0.8716 - accuracy: 0.6450 - f1_m: 0.6376 - precision_m: 0.8069 - recall_m: 0.5280 - val_loss: 0.8534 - val_accuracy: 0.6726 - val_f1_m: 0.6460 - val_precision_m: 0.8035 - val_recall_m: 0.5409\n",
      "Epoch 5/24\n",
      "224/224 [==============================] - 0s 1ms/step - loss: 0.8391 - accuracy: 0.6647 - f1_m: 0.6469 - precision_m: 0.8175 - recall_m: 0.5364 - val_loss: 0.8078 - val_accuracy: 0.6800 - val_f1_m: 0.6615 - val_precision_m: 0.8052 - val_recall_m: 0.5619\n",
      "Epoch 6/24\n",
      "224/224 [==============================] - 0s 1ms/step - loss: 0.8041 - accuracy: 0.6811 - f1_m: 0.6641 - precision_m: 0.8285 - recall_m: 0.5555 - val_loss: 0.7702 - val_accuracy: 0.6993 - val_f1_m: 0.6770 - val_precision_m: 0.8405 - val_recall_m: 0.5675\n",
      "Epoch 7/24\n",
      "224/224 [==============================] - 0s 1ms/step - loss: 0.7643 - accuracy: 0.6942 - f1_m: 0.6839 - precision_m: 0.8332 - recall_m: 0.5809 - val_loss: 0.7383 - val_accuracy: 0.6998 - val_f1_m: 0.6878 - val_precision_m: 0.8333 - val_recall_m: 0.5863\n",
      "Epoch 8/24\n",
      "224/224 [==============================] - 0s 1ms/step - loss: 0.7285 - accuracy: 0.7171 - f1_m: 0.7045 - precision_m: 0.8370 - recall_m: 0.6091 - val_loss: 0.7099 - val_accuracy: 0.7226 - val_f1_m: 0.7115 - val_precision_m: 0.8213 - val_recall_m: 0.6284\n",
      "Epoch 9/24\n",
      "224/224 [==============================] - 0s 1ms/step - loss: 0.7059 - accuracy: 0.7245 - f1_m: 0.7161 - precision_m: 0.8388 - recall_m: 0.6257 - val_loss: 0.6877 - val_accuracy: 0.7404 - val_f1_m: 0.7251 - val_precision_m: 0.8457 - val_recall_m: 0.6352\n",
      "Epoch 10/24\n",
      "224/224 [==============================] - 0s 1ms/step - loss: 0.6859 - accuracy: 0.7321 - f1_m: 0.7247 - precision_m: 0.8379 - recall_m: 0.6393 - val_loss: 0.6710 - val_accuracy: 0.7372 - val_f1_m: 0.7223 - val_precision_m: 0.8315 - val_recall_m: 0.6392\n",
      "Epoch 11/24\n",
      "224/224 [==============================] - 0s 1ms/step - loss: 0.6550 - accuracy: 0.7435 - f1_m: 0.7380 - precision_m: 0.8444 - recall_m: 0.6563 - val_loss: 0.6532 - val_accuracy: 0.7470 - val_f1_m: 0.7429 - val_precision_m: 0.8477 - val_recall_m: 0.6618\n",
      "Epoch 12/24\n",
      "224/224 [==============================] - 0s 1ms/step - loss: 0.6513 - accuracy: 0.7470 - f1_m: 0.7393 - precision_m: 0.8411 - recall_m: 0.6602 - val_loss: 0.6585 - val_accuracy: 0.7343 - val_f1_m: 0.7379 - val_precision_m: 0.8202 - val_recall_m: 0.6712\n",
      "Epoch 13/24\n",
      "224/224 [==============================] - 0s 1ms/step - loss: 0.6421 - accuracy: 0.7495 - f1_m: 0.7432 - precision_m: 0.8389 - recall_m: 0.6677 - val_loss: 0.6340 - val_accuracy: 0.7623 - val_f1_m: 0.7465 - val_precision_m: 0.8408 - val_recall_m: 0.6717\n",
      "Epoch 14/24\n",
      "224/224 [==============================] - 0s 2ms/step - loss: 0.6197 - accuracy: 0.7623 - f1_m: 0.7514 - precision_m: 0.8450 - recall_m: 0.6770 - val_loss: 0.6304 - val_accuracy: 0.7504 - val_f1_m: 0.7410 - val_precision_m: 0.8447 - val_recall_m: 0.6607\n",
      "Epoch 15/24\n",
      "224/224 [==============================] - 0s 1ms/step - loss: 0.6226 - accuracy: 0.7600 - f1_m: 0.7513 - precision_m: 0.8417 - recall_m: 0.6791 - val_loss: 0.6068 - val_accuracy: 0.7633 - val_f1_m: 0.7603 - val_precision_m: 0.8532 - val_recall_m: 0.6864\n",
      "Epoch 16/24\n",
      "224/224 [==============================] - 0s 1ms/step - loss: 0.5973 - accuracy: 0.7709 - f1_m: 0.7655 - precision_m: 0.8521 - recall_m: 0.6956 - val_loss: 0.6195 - val_accuracy: 0.7600 - val_f1_m: 0.7587 - val_precision_m: 0.8442 - val_recall_m: 0.6895\n",
      "Epoch 17/24\n",
      "224/224 [==============================] - 0s 2ms/step - loss: 0.5929 - accuracy: 0.7714 - f1_m: 0.7669 - precision_m: 0.8500 - recall_m: 0.6993 - val_loss: 0.5999 - val_accuracy: 0.7685 - val_f1_m: 0.7660 - val_precision_m: 0.8457 - val_recall_m: 0.7005\n",
      "Epoch 18/24\n",
      "224/224 [==============================] - 0s 1ms/step - loss: 0.5889 - accuracy: 0.7715 - f1_m: 0.7688 - precision_m: 0.8504 - recall_m: 0.7023 - val_loss: 0.6119 - val_accuracy: 0.7519 - val_f1_m: 0.7491 - val_precision_m: 0.8306 - val_recall_m: 0.6828\n",
      "Epoch 19/24\n",
      "224/224 [==============================] - 0s 1ms/step - loss: 0.5861 - accuracy: 0.7713 - f1_m: 0.7690 - precision_m: 0.8475 - recall_m: 0.7043 - val_loss: 0.5985 - val_accuracy: 0.7712 - val_f1_m: 0.7722 - val_precision_m: 0.8386 - val_recall_m: 0.7159\n",
      "Epoch 20/24\n",
      "224/224 [==============================] - 0s 2ms/step - loss: 0.5705 - accuracy: 0.7787 - f1_m: 0.7739 - precision_m: 0.8500 - recall_m: 0.7110 - val_loss: 0.5822 - val_accuracy: 0.7804 - val_f1_m: 0.7712 - val_precision_m: 0.8597 - val_recall_m: 0.6997\n",
      "Epoch 21/24\n",
      "224/224 [==============================] - 0s 1ms/step - loss: 0.5665 - accuracy: 0.7852 - f1_m: 0.7782 - precision_m: 0.8524 - recall_m: 0.7166 - val_loss: 0.5609 - val_accuracy: 0.7852 - val_f1_m: 0.7813 - val_precision_m: 0.8555 - val_recall_m: 0.7194\n",
      "Epoch 22/24\n",
      "224/224 [==============================] - 0s 1ms/step - loss: 0.5582 - accuracy: 0.7882 - f1_m: 0.7827 - precision_m: 0.8571 - recall_m: 0.7206 - val_loss: 0.5611 - val_accuracy: 0.7830 - val_f1_m: 0.7806 - val_precision_m: 0.8579 - val_recall_m: 0.7167\n",
      "Epoch 23/24\n",
      "224/224 [==============================] - 0s 2ms/step - loss: 0.5497 - accuracy: 0.7897 - f1_m: 0.7859 - precision_m: 0.8583 - recall_m: 0.7253 - val_loss: 0.6013 - val_accuracy: 0.7752 - val_f1_m: 0.7733 - val_precision_m: 0.8328 - val_recall_m: 0.7221\n",
      "Epoch 24/24\n",
      "224/224 [==============================] - 0s 1ms/step - loss: 0.5641 - accuracy: 0.7841 - f1_m: 0.7804 - precision_m: 0.8537 - recall_m: 0.7192 - val_loss: 0.5507 - val_accuracy: 0.7852 - val_f1_m: 0.7857 - val_precision_m: 0.8507 - val_recall_m: 0.7304\n"
     ]
    },
    {
     "data": {
      "text/plain": [
       "<keras.callbacks.History at 0x7ff12e210070>"
      ]
     },
     "execution_count": 51,
     "metadata": {},
     "output_type": "execute_result"
    }
   ],
   "source": [
    "model.fit(X_train,np_utils.to_categorical(y_train),epochs = 24,validation_split=0.3, batch_size = 128)"
   ]
  },
  {
   "cell_type": "code",
   "execution_count": 52,
   "id": "72bf3812",
   "metadata": {},
   "outputs": [],
   "source": [
    "y_pred = model.predict(X_test)"
   ]
  },
  {
   "cell_type": "code",
   "execution_count": 53,
   "id": "64451522",
   "metadata": {},
   "outputs": [],
   "source": [
    "predicted = np.argmax(y_pred, axis=1)"
   ]
  },
  {
   "cell_type": "code",
   "execution_count": 54,
   "id": "0294d126",
   "metadata": {},
   "outputs": [
    {
     "name": "stdout",
     "output_type": "stream",
     "text": [
      "0.7944693024279322\n"
     ]
    }
   ],
   "source": [
    "from sklearn.metrics import classification_report\n",
    "print(accuracy_score(y_test,predicted))"
   ]
  },
  {
   "cell_type": "code",
   "execution_count": 55,
   "id": "cb898c30",
   "metadata": {},
   "outputs": [
    {
     "name": "stdout",
     "output_type": "stream",
     "text": [
      "                            precision    recall  f1-score   support\n",
      "\n",
      "     Benign_list_big_final       0.93      0.85      0.89      2735\n",
      "DefacementSitesURLFiltered       0.72      0.70      0.71      2499\n",
      "           Malware_dataset       0.74      0.88      0.80      2834\n",
      "          phishing_dataset       0.75      0.69      0.72      2477\n",
      "              spam_dataset       0.83      0.83      0.83      3088\n",
      "\n",
      "                  accuracy                           0.79     13633\n",
      "                 macro avg       0.80      0.79      0.79     13633\n",
      "              weighted avg       0.80      0.79      0.79     13633\n",
      "\n"
     ]
    }
   ],
   "source": [
    "target_names = ['Benign_list_big_final','DefacementSitesURLFiltered','Malware_dataset','phishing_dataset','spam_dataset']\n",
    "print(classification_report(y_test, predicted, target_names=target_names))"
   ]
  },
  {
   "cell_type": "code",
   "execution_count": 56,
   "id": "ab73812d",
   "metadata": {},
   "outputs": [
    {
     "name": "stdout",
     "output_type": "stream",
     "text": [
      "INFO:tensorflow:Assets written to: Model_v1/assets\n"
     ]
    }
   ],
   "source": [
    "model.save(\"Model_v1\")"
   ]
  }
 ],
 "metadata": {
  "kernelspec": {
   "display_name": "Python 3.8.0 64-bit",
   "language": "python",
   "name": "python38064bit1060d4750c904259afeb7847dfa8ded2"
  },
  "language_info": {
   "codemirror_mode": {
    "name": "ipython",
    "version": 3
   },
   "file_extension": ".py",
   "mimetype": "text/x-python",
   "name": "python",
   "nbconvert_exporter": "python",
   "pygments_lexer": "ipython3",
   "version": "3.9.2"
  },
  "toc": {
   "base_numbering": 1,
   "nav_menu": {},
   "number_sections": false,
   "sideBar": false,
   "skip_h1_title": false,
   "title_cell": "Table of Contents",
   "title_sidebar": "Contents",
   "toc_cell": false,
   "toc_position": {},
   "toc_section_display": false,
   "toc_window_display": false
  }
 },
 "nbformat": 4,
 "nbformat_minor": 5
}
