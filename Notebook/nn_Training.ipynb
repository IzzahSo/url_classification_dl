{
 "cells": [
  {
   "cell_type": "code",
   "execution_count": 1,
   "id": "ec227828",
   "metadata": {},
   "outputs": [
    {
     "name": "stdout",
     "output_type": "stream",
     "text": [
      "INFO:tensorflow:Enabling eager execution\n",
      "INFO:tensorflow:Enabling v2 tensorshape\n",
      "INFO:tensorflow:Enabling resource variables\n",
      "INFO:tensorflow:Enabling tensor equality\n",
      "INFO:tensorflow:Enabling control flow v2\n"
     ]
    }
   ],
   "source": [
    "import os\n",
    "import pandas as pd\n",
    "import tensorflow as ts\n",
    "import numpy as np\n",
    "from sklearn.preprocessing import LabelEncoder\n",
    "from keras.utils.np_utils import to_categorical\n",
    "from sklearn.model_selection import train_test_split\n",
    "from sklearn.metrics import accuracy_score,f1_score,precision_score,recall_score\n",
    "from sklearn.preprocessing import MinMaxScaler\n",
    "from keras.utils import np_utils\n",
    "from keras import backend as K\n",
    "import pickle"
   ]
  },
  {
   "cell_type": "code",
   "execution_count": 2,
   "id": "793dfa1a",
   "metadata": {},
   "outputs": [],
   "source": [
    "os.chdir(\"../\")\n",
    "os.chdir(\"FinalDataset\")"
   ]
  },
  {
   "cell_type": "code",
   "execution_count": 3,
   "id": "add5cefa",
   "metadata": {},
   "outputs": [],
   "source": [
    "def recall_m(y_true, y_pred):\n",
    "    true_positives = K.sum(K.round(K.clip(y_true * y_pred, 0, 1)))\n",
    "    possible_positives = K.sum(K.round(K.clip(y_true, 0, 1)))\n",
    "    recall = true_positives / (possible_positives + K.epsilon())\n",
    "    return recall\n",
    "\n",
    "def precision_m(y_true, y_pred):\n",
    "    true_positives = K.sum(K.round(K.clip(y_true * y_pred, 0, 1)))\n",
    "    predicted_positives = K.sum(K.round(K.clip(y_pred, 0, 1)))\n",
    "    precision = true_positives / (predicted_positives + K.epsilon())\n",
    "    return precision\n",
    "\n",
    "def f1_m(y_true, y_pred):\n",
    "    precision = precision_m(y_true, y_pred)\n",
    "    recall = recall_m(y_true, y_pred)\n",
    "    return 2*((precision*recall)/(precision+recall+K.epsilon()))"
   ]
  },
  {
   "cell_type": "code",
   "execution_count": 4,
   "id": "c6259ffe",
   "metadata": {},
   "outputs": [],
   "source": [
    "data = pd.read_csv(\"feature.csv\")"
   ]
  },
  {
   "cell_type": "code",
   "execution_count": 5,
   "id": "a3ecb7cd",
   "metadata": {},
   "outputs": [
    {
     "data": {
      "text/html": [
       "<div>\n",
       "<style scoped>\n",
       "    .dataframe tbody tr th:only-of-type {\n",
       "        vertical-align: middle;\n",
       "    }\n",
       "\n",
       "    .dataframe tbody tr th {\n",
       "        vertical-align: top;\n",
       "    }\n",
       "\n",
       "    .dataframe thead th {\n",
       "        text-align: right;\n",
       "    }\n",
       "</style>\n",
       "<table border=\"1\" class=\"dataframe\">\n",
       "  <thead>\n",
       "    <tr style=\"text-align: right;\">\n",
       "      <th></th>\n",
       "      <th>Unnamed: 0</th>\n",
       "      <th>File</th>\n",
       "      <th>bodyLength</th>\n",
       "      <th>bscr</th>\n",
       "      <th>dse</th>\n",
       "      <th>dsr</th>\n",
       "      <th>entropy</th>\n",
       "      <th>hasHttp</th>\n",
       "      <th>hasHttps</th>\n",
       "      <th>has_ip</th>\n",
       "      <th>...</th>\n",
       "      <th>numParams</th>\n",
       "      <th>numTitles</th>\n",
       "      <th>num_%20</th>\n",
       "      <th>num_@</th>\n",
       "      <th>sbr</th>\n",
       "      <th>scriptLength</th>\n",
       "      <th>specialChars</th>\n",
       "      <th>sscr</th>\n",
       "      <th>urlIsLive</th>\n",
       "      <th>urlLength</th>\n",
       "    </tr>\n",
       "  </thead>\n",
       "  <tbody>\n",
       "    <tr>\n",
       "      <th>0</th>\n",
       "      <td>0</td>\n",
       "      <td>spam_dataset</td>\n",
       "      <td>31</td>\n",
       "      <td>0.064516</td>\n",
       "      <td>0</td>\n",
       "      <td>0</td>\n",
       "      <td>-4.708307</td>\n",
       "      <td>True</td>\n",
       "      <td>False</td>\n",
       "      <td>0</td>\n",
       "      <td>...</td>\n",
       "      <td>0</td>\n",
       "      <td>0</td>\n",
       "      <td>0</td>\n",
       "      <td>0</td>\n",
       "      <td>0.000000</td>\n",
       "      <td>0</td>\n",
       "      <td>2</td>\n",
       "      <td>0.000000</td>\n",
       "      <td>False</td>\n",
       "      <td>81</td>\n",
       "    </tr>\n",
       "    <tr>\n",
       "      <th>1</th>\n",
       "      <td>1</td>\n",
       "      <td>spam_dataset</td>\n",
       "      <td>64790</td>\n",
       "      <td>0.306050</td>\n",
       "      <td>0</td>\n",
       "      <td>0</td>\n",
       "      <td>-4.576882</td>\n",
       "      <td>True</td>\n",
       "      <td>False</td>\n",
       "      <td>0</td>\n",
       "      <td>...</td>\n",
       "      <td>0</td>\n",
       "      <td>19</td>\n",
       "      <td>0</td>\n",
       "      <td>0</td>\n",
       "      <td>0.923800</td>\n",
       "      <td>59853</td>\n",
       "      <td>19829</td>\n",
       "      <td>3.018458</td>\n",
       "      <td>False</td>\n",
       "      <td>58</td>\n",
       "    </tr>\n",
       "    <tr>\n",
       "      <th>2</th>\n",
       "      <td>2</td>\n",
       "      <td>spam_dataset</td>\n",
       "      <td>757</td>\n",
       "      <td>0.195509</td>\n",
       "      <td>0</td>\n",
       "      <td>0</td>\n",
       "      <td>-4.205536</td>\n",
       "      <td>True</td>\n",
       "      <td>False</td>\n",
       "      <td>0</td>\n",
       "      <td>...</td>\n",
       "      <td>0</td>\n",
       "      <td>1</td>\n",
       "      <td>0</td>\n",
       "      <td>0</td>\n",
       "      <td>0.000000</td>\n",
       "      <td>0</td>\n",
       "      <td>148</td>\n",
       "      <td>0.000000</td>\n",
       "      <td>False</td>\n",
       "      <td>46</td>\n",
       "    </tr>\n",
       "    <tr>\n",
       "      <th>3</th>\n",
       "      <td>3</td>\n",
       "      <td>spam_dataset</td>\n",
       "      <td>266310</td>\n",
       "      <td>0.230915</td>\n",
       "      <td>0</td>\n",
       "      <td>0</td>\n",
       "      <td>-4.550931</td>\n",
       "      <td>True</td>\n",
       "      <td>False</td>\n",
       "      <td>0</td>\n",
       "      <td>...</td>\n",
       "      <td>0</td>\n",
       "      <td>648</td>\n",
       "      <td>0</td>\n",
       "      <td>0</td>\n",
       "      <td>0.312647</td>\n",
       "      <td>83261</td>\n",
       "      <td>61495</td>\n",
       "      <td>1.353947</td>\n",
       "      <td>False</td>\n",
       "      <td>52</td>\n",
       "    </tr>\n",
       "    <tr>\n",
       "      <th>4</th>\n",
       "      <td>4</td>\n",
       "      <td>spam_dataset</td>\n",
       "      <td>40</td>\n",
       "      <td>0.200000</td>\n",
       "      <td>0</td>\n",
       "      <td>0</td>\n",
       "      <td>-4.689336</td>\n",
       "      <td>True</td>\n",
       "      <td>False</td>\n",
       "      <td>0</td>\n",
       "      <td>...</td>\n",
       "      <td>2</td>\n",
       "      <td>1</td>\n",
       "      <td>0</td>\n",
       "      <td>0</td>\n",
       "      <td>0.000000</td>\n",
       "      <td>0</td>\n",
       "      <td>8</td>\n",
       "      <td>0.000000</td>\n",
       "      <td>False</td>\n",
       "      <td>83</td>\n",
       "    </tr>\n",
       "  </tbody>\n",
       "</table>\n",
       "<p>5 rows × 23 columns</p>\n",
       "</div>"
      ],
      "text/plain": [
       "   Unnamed: 0          File  bodyLength      bscr  dse  dsr   entropy  \\\n",
       "0           0  spam_dataset          31  0.064516    0    0 -4.708307   \n",
       "1           1  spam_dataset       64790  0.306050    0    0 -4.576882   \n",
       "2           2  spam_dataset         757  0.195509    0    0 -4.205536   \n",
       "3           3  spam_dataset      266310  0.230915    0    0 -4.550931   \n",
       "4           4  spam_dataset          40  0.200000    0    0 -4.689336   \n",
       "\n",
       "   hasHttp  hasHttps  has_ip  ...  numParams  numTitles  num_%20  num_@  \\\n",
       "0     True     False       0  ...          0          0        0      0   \n",
       "1     True     False       0  ...          0         19        0      0   \n",
       "2     True     False       0  ...          0          1        0      0   \n",
       "3     True     False       0  ...          0        648        0      0   \n",
       "4     True     False       0  ...          2          1        0      0   \n",
       "\n",
       "        sbr  scriptLength  specialChars      sscr  urlIsLive  urlLength  \n",
       "0  0.000000             0             2  0.000000      False         81  \n",
       "1  0.923800         59853         19829  3.018458      False         58  \n",
       "2  0.000000             0           148  0.000000      False         46  \n",
       "3  0.312647         83261         61495  1.353947      False         52  \n",
       "4  0.000000             0             8  0.000000      False         83  \n",
       "\n",
       "[5 rows x 23 columns]"
      ]
     },
     "execution_count": 5,
     "metadata": {},
     "output_type": "execute_result"
    }
   ],
   "source": [
    "data.head()"
   ]
  },
  {
   "cell_type": "code",
   "execution_count": 6,
   "id": "c58b1a58",
   "metadata": {},
   "outputs": [],
   "source": [
    "data.drop(columns='Unnamed: 0',inplace=True)\n",
    "data.replace(True,1,inplace = True)\n",
    "data.replace(False,0,inplace = True)\n",
    "y = data[\"File\"]"
   ]
  },
  {
   "cell_type": "code",
   "execution_count": 7,
   "id": "7a64b229",
   "metadata": {},
   "outputs": [],
   "source": [
    "data = data.drop(columns = \"File\")"
   ]
  },
  {
   "cell_type": "code",
   "execution_count": 8,
   "id": "a85565a1",
   "metadata": {},
   "outputs": [],
   "source": [
    "encoder = LabelEncoder()\n",
    "encoder.fit(y)\n",
    "Y = encoder.transform(y)"
   ]
  },
  {
   "cell_type": "code",
   "execution_count": 9,
   "id": "f6d831da",
   "metadata": {},
   "outputs": [],
   "source": [
    "scaler = MinMaxScaler(feature_range=(0, 1))\n",
    "X = scaler.fit_transform(data)\n",
    "X = pd.DataFrame(X)"
   ]
  },
  {
   "cell_type": "code",
   "execution_count": 26,
   "id": "79c65a87",
   "metadata": {},
   "outputs": [],
   "source": [
    "from keras.models import Sequential\n",
    "from keras.layers import LSTM, Dense, Dropout, Masking, Embedding\n",
    "\n",
    "input_dim = len(data.columns)\n",
    "model = Sequential()\n",
    "model.add(Dense(256, input_dim = input_dim , activation = 'relu'))\n",
    "model.add(Dense(128, activation = 'relu'))\n",
    "model.add(Dense(64, activation = 'relu'))\n",
    "model.add(Dense(32, activation = 'relu'))\n",
    "model.add(Dense(16, activation = 'relu'))\n",
    "model.add(Dense(5, activation = 'softmax'))\n",
    "\n",
    "model.compile(loss = 'categorical_crossentropy' , optimizer = 'adam' , metrics = ['accuracy'] )"
   ]
  },
  {
   "cell_type": "code",
   "execution_count": 27,
   "id": "844aaa61",
   "metadata": {},
   "outputs": [],
   "source": [
    "X_train, X_test, y_train, y_test = train_test_split(X, Y, test_size=0.25, random_state=42)"
   ]
  },
  {
   "cell_type": "code",
   "execution_count": 28,
   "id": "ad2d7789",
   "metadata": {},
   "outputs": [
    {
     "name": "stdout",
     "output_type": "stream",
     "text": [
      "Epoch 1/50\n",
      "224/224 [==============================] - 1s 3ms/step - loss: 1.3426 - accuracy: 0.4081 - val_loss: 0.9693 - val_accuracy: 0.6035\n",
      "Epoch 2/50\n",
      "224/224 [==============================] - 0s 2ms/step - loss: 0.9376 - accuracy: 0.6241 - val_loss: 0.8951 - val_accuracy: 0.6361\n",
      "Epoch 3/50\n",
      "224/224 [==============================] - 0s 2ms/step - loss: 0.8558 - accuracy: 0.6594 - val_loss: 0.7871 - val_accuracy: 0.6844\n",
      "Epoch 4/50\n",
      "224/224 [==============================] - 0s 2ms/step - loss: 0.7463 - accuracy: 0.7051 - val_loss: 0.7288 - val_accuracy: 0.7156\n",
      "Epoch 5/50\n",
      "224/224 [==============================] - 0s 2ms/step - loss: 0.7151 - accuracy: 0.7159 - val_loss: 0.6656 - val_accuracy: 0.7431\n",
      "Epoch 6/50\n",
      "224/224 [==============================] - 0s 2ms/step - loss: 0.6645 - accuracy: 0.7385 - val_loss: 0.6523 - val_accuracy: 0.7408\n",
      "Epoch 7/50\n",
      "224/224 [==============================] - 0s 2ms/step - loss: 0.6392 - accuracy: 0.7510 - val_loss: 0.6171 - val_accuracy: 0.7617\n",
      "Epoch 8/50\n",
      "224/224 [==============================] - 0s 2ms/step - loss: 0.6105 - accuracy: 0.7643 - val_loss: 0.6071 - val_accuracy: 0.7588\n",
      "Epoch 9/50\n",
      "224/224 [==============================] - 0s 2ms/step - loss: 0.5950 - accuracy: 0.7687 - val_loss: 0.6097 - val_accuracy: 0.7689\n",
      "Epoch 10/50\n",
      "224/224 [==============================] - 0s 2ms/step - loss: 0.5779 - accuracy: 0.7782 - val_loss: 0.6047 - val_accuracy: 0.7634\n",
      "Epoch 11/50\n",
      "224/224 [==============================] - 0s 2ms/step - loss: 0.5627 - accuracy: 0.7826 - val_loss: 0.5765 - val_accuracy: 0.7790\n",
      "Epoch 12/50\n",
      "224/224 [==============================] - 0s 2ms/step - loss: 0.5667 - accuracy: 0.7811 - val_loss: 0.5631 - val_accuracy: 0.7727\n",
      "Epoch 13/50\n",
      "224/224 [==============================] - 0s 2ms/step - loss: 0.5413 - accuracy: 0.7855 - val_loss: 0.5552 - val_accuracy: 0.7840\n",
      "Epoch 14/50\n",
      "224/224 [==============================] - 0s 2ms/step - loss: 0.5386 - accuracy: 0.7908 - val_loss: 0.5568 - val_accuracy: 0.7877\n",
      "Epoch 15/50\n",
      "224/224 [==============================] - 1s 3ms/step - loss: 0.5380 - accuracy: 0.7891 - val_loss: 0.5307 - val_accuracy: 0.7941\n",
      "Epoch 16/50\n",
      "224/224 [==============================] - 0s 2ms/step - loss: 0.5257 - accuracy: 0.7969 - val_loss: 0.5214 - val_accuracy: 0.7950\n",
      "Epoch 17/50\n",
      "224/224 [==============================] - 0s 2ms/step - loss: 0.5049 - accuracy: 0.8021 - val_loss: 0.5161 - val_accuracy: 0.7999\n",
      "Epoch 18/50\n",
      "224/224 [==============================] - 0s 2ms/step - loss: 0.5077 - accuracy: 0.7993 - val_loss: 0.5161 - val_accuracy: 0.7977\n",
      "Epoch 19/50\n",
      "224/224 [==============================] - 0s 2ms/step - loss: 0.4914 - accuracy: 0.8092 - val_loss: 0.5052 - val_accuracy: 0.8059\n",
      "Epoch 20/50\n",
      "224/224 [==============================] - 0s 2ms/step - loss: 0.4916 - accuracy: 0.8088 - val_loss: 0.5315 - val_accuracy: 0.7913\n",
      "Epoch 21/50\n",
      "224/224 [==============================] - 0s 2ms/step - loss: 0.4886 - accuracy: 0.8078 - val_loss: 0.5116 - val_accuracy: 0.7993\n",
      "Epoch 22/50\n",
      "224/224 [==============================] - 0s 2ms/step - loss: 0.4728 - accuracy: 0.8165 - val_loss: 0.5143 - val_accuracy: 0.8021\n",
      "Epoch 23/50\n",
      "224/224 [==============================] - 0s 2ms/step - loss: 0.4788 - accuracy: 0.8126 - val_loss: 0.5321 - val_accuracy: 0.7886\n",
      "Epoch 24/50\n",
      "224/224 [==============================] - 0s 2ms/step - loss: 0.4746 - accuracy: 0.8132 - val_loss: 0.4881 - val_accuracy: 0.8082\n",
      "Epoch 25/50\n",
      "224/224 [==============================] - 0s 2ms/step - loss: 0.4603 - accuracy: 0.8184 - val_loss: 0.5303 - val_accuracy: 0.7951\n",
      "Epoch 26/50\n",
      "224/224 [==============================] - 0s 2ms/step - loss: 0.4552 - accuracy: 0.8226 - val_loss: 0.4956 - val_accuracy: 0.8130\n",
      "Epoch 27/50\n",
      "224/224 [==============================] - 0s 2ms/step - loss: 0.4682 - accuracy: 0.8158 - val_loss: 0.4660 - val_accuracy: 0.8210\n",
      "Epoch 28/50\n",
      "224/224 [==============================] - 0s 2ms/step - loss: 0.4483 - accuracy: 0.8241 - val_loss: 0.4790 - val_accuracy: 0.8153\n",
      "Epoch 29/50\n",
      "224/224 [==============================] - 0s 2ms/step - loss: 0.4519 - accuracy: 0.8227 - val_loss: 0.4990 - val_accuracy: 0.8065\n",
      "Epoch 30/50\n",
      "224/224 [==============================] - 0s 2ms/step - loss: 0.4548 - accuracy: 0.8217 - val_loss: 0.4832 - val_accuracy: 0.8107\n",
      "Epoch 31/50\n",
      "224/224 [==============================] - 0s 2ms/step - loss: 0.4341 - accuracy: 0.8301 - val_loss: 0.4855 - val_accuracy: 0.8117\n",
      "Epoch 32/50\n",
      "224/224 [==============================] - 0s 2ms/step - loss: 0.4471 - accuracy: 0.8235 - val_loss: 0.4720 - val_accuracy: 0.8186\n",
      "Epoch 33/50\n",
      "224/224 [==============================] - 0s 2ms/step - loss: 0.4409 - accuracy: 0.8290 - val_loss: 0.4581 - val_accuracy: 0.8289\n",
      "Epoch 34/50\n",
      "224/224 [==============================] - 0s 2ms/step - loss: 0.4292 - accuracy: 0.8313 - val_loss: 0.4748 - val_accuracy: 0.8200\n",
      "Epoch 35/50\n",
      "224/224 [==============================] - 0s 2ms/step - loss: 0.4236 - accuracy: 0.8382 - val_loss: 0.4657 - val_accuracy: 0.8226\n",
      "Epoch 36/50\n",
      "224/224 [==============================] - 0s 2ms/step - loss: 0.4327 - accuracy: 0.8320 - val_loss: 0.4627 - val_accuracy: 0.8236\n",
      "Epoch 37/50\n",
      "224/224 [==============================] - 0s 2ms/step - loss: 0.4236 - accuracy: 0.8340 - val_loss: 0.4960 - val_accuracy: 0.8134\n",
      "Epoch 38/50\n",
      "224/224 [==============================] - 0s 2ms/step - loss: 0.4186 - accuracy: 0.8396 - val_loss: 0.4504 - val_accuracy: 0.8275\n",
      "Epoch 39/50\n",
      "224/224 [==============================] - 0s 2ms/step - loss: 0.4194 - accuracy: 0.8387 - val_loss: 0.4507 - val_accuracy: 0.8336\n",
      "Epoch 40/50\n",
      "224/224 [==============================] - 0s 2ms/step - loss: 0.4275 - accuracy: 0.8310 - val_loss: 0.4637 - val_accuracy: 0.8236\n",
      "Epoch 41/50\n",
      "224/224 [==============================] - 0s 2ms/step - loss: 0.4292 - accuracy: 0.8323 - val_loss: 0.4554 - val_accuracy: 0.8228\n",
      "Epoch 42/50\n",
      "224/224 [==============================] - 0s 2ms/step - loss: 0.4209 - accuracy: 0.8369 - val_loss: 0.4483 - val_accuracy: 0.8315\n",
      "Epoch 43/50\n",
      "224/224 [==============================] - 0s 2ms/step - loss: 0.4047 - accuracy: 0.8414 - val_loss: 0.4592 - val_accuracy: 0.8289\n",
      "Epoch 44/50\n",
      "224/224 [==============================] - 0s 2ms/step - loss: 0.4115 - accuracy: 0.8372 - val_loss: 0.4467 - val_accuracy: 0.8318\n",
      "Epoch 45/50\n",
      "224/224 [==============================] - 0s 2ms/step - loss: 0.4111 - accuracy: 0.8403 - val_loss: 0.4467 - val_accuracy: 0.8274\n",
      "Epoch 46/50\n",
      "224/224 [==============================] - 0s 2ms/step - loss: 0.4076 - accuracy: 0.8413 - val_loss: 0.4345 - val_accuracy: 0.8388\n",
      "Epoch 47/50\n",
      "224/224 [==============================] - 0s 2ms/step - loss: 0.3995 - accuracy: 0.8438 - val_loss: 0.4275 - val_accuracy: 0.8386\n",
      "Epoch 48/50\n",
      "224/224 [==============================] - 0s 2ms/step - loss: 0.4136 - accuracy: 0.8367 - val_loss: 0.4428 - val_accuracy: 0.8334\n",
      "Epoch 49/50\n",
      "224/224 [==============================] - 0s 2ms/step - loss: 0.3992 - accuracy: 0.8440 - val_loss: 0.4491 - val_accuracy: 0.8342\n",
      "Epoch 50/50\n",
      "224/224 [==============================] - 0s 2ms/step - loss: 0.3896 - accuracy: 0.8465 - val_loss: 0.4297 - val_accuracy: 0.8384\n"
     ]
    },
    {
     "data": {
      "text/plain": [
       "<keras.callbacks.History at 0x7fa0cab05b20>"
      ]
     },
     "execution_count": 28,
     "metadata": {},
     "output_type": "execute_result"
    }
   ],
   "source": [
    "model.fit(X_train,np_utils.to_categorical(y_train),epochs = 50,validation_split=0.3, batch_size = 128)"
   ]
  },
  {
   "cell_type": "code",
   "execution_count": 29,
   "id": "0cf8288f",
   "metadata": {},
   "outputs": [],
   "source": [
    "y_pred = model.predict(X_test)"
   ]
  },
  {
   "cell_type": "code",
   "execution_count": 30,
   "id": "cf87f6a0",
   "metadata": {},
   "outputs": [],
   "source": [
    "predicted = np.argmax(y_pred, axis=1)"
   ]
  },
  {
   "cell_type": "code",
   "execution_count": 31,
   "id": "7c2f44f9",
   "metadata": {},
   "outputs": [
    {
     "name": "stdout",
     "output_type": "stream",
     "text": [
      "0.8459620039609771\n"
     ]
    }
   ],
   "source": [
    "from sklearn.metrics import classification_report\n",
    "print(accuracy_score(y_test,predicted))"
   ]
  },
  {
   "cell_type": "code",
   "execution_count": 32,
   "id": "040aef0c",
   "metadata": {},
   "outputs": [
    {
     "name": "stdout",
     "output_type": "stream",
     "text": [
      "              precision    recall  f1-score   support\n",
      "\n",
      "      Benign       0.94      0.95      0.95      2735\n",
      "  Defacement       0.72      0.79      0.76      2499\n",
      "     Malware       0.82      0.92      0.87      2834\n",
      "    Phishing       0.83      0.69      0.75      2477\n",
      "        Spam       0.91      0.86      0.88      3088\n",
      "\n",
      "    accuracy                           0.85     13633\n",
      "   macro avg       0.85      0.84      0.84     13633\n",
      "weighted avg       0.85      0.85      0.85     13633\n",
      "\n"
     ]
    }
   ],
   "source": [
    "target_names = ['Benign','Defacement','Malware','Phishing','Spam']\n",
    "print(classification_report(y_test, predicted, target_names=target_names))"
   ]
  },
  {
   "cell_type": "code",
   "execution_count": 34,
   "id": "f1e9b883",
   "metadata": {},
   "outputs": [],
   "source": [
    "os.chdir(\"../\")\n",
    "os.chdir(\"models\")\n",
    "model.save(\"Model_v1.h5\")\n",
    "np.save('lblenc.npy', encoder.classes_)\n",
    "scalerfile = 'scaler.sav'\n",
    "pickle.dump(scaler, open(scalerfile, 'wb'))"
   ]
  }
 ],
 "metadata": {
  "kernelspec": {
   "display_name": "Python 3.8.0 64-bit",
   "language": "python",
   "name": "python38064bit1060d4750c904259afeb7847dfa8ded2"
  },
  "language_info": {
   "codemirror_mode": {
    "name": "ipython",
    "version": 3
   },
   "file_extension": ".py",
   "mimetype": "text/x-python",
   "name": "python",
   "nbconvert_exporter": "python",
   "pygments_lexer": "ipython3",
   "version": "3.9.2"
  },
  "toc": {
   "base_numbering": 1,
   "nav_menu": {},
   "number_sections": false,
   "sideBar": false,
   "skip_h1_title": false,
   "title_cell": "Table of Contents",
   "title_sidebar": "Contents",
   "toc_cell": false,
   "toc_position": {},
   "toc_section_display": false,
   "toc_window_display": false
  }
 },
 "nbformat": 4,
 "nbformat_minor": 5
}
