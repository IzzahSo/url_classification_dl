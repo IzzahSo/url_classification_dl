{
 "cells": [
  {
   "cell_type": "code",
   "execution_count": 1,
   "metadata": {},
   "outputs": [],
   "source": [
    "import os\n",
    "import pandas as pd\n",
    "import tensorflow as ts\n",
    "import numpy as np\n",
    "from sklearn.preprocessing import LabelEncoder\n",
    "from keras.utils.np_utils import to_categorical\n",
    "from sklearn.model_selection import train_test_split\n",
    "from sklearn.metrics import accuracy_score,f1_score,precision_score,recall_score\n",
    "from sklearn.preprocessing import MinMaxScaler\n",
    "from keras.utils import np_utils\n",
    "from keras import backend as K\n",
    "import pickle"
   ]
  },
  {
   "cell_type": "code",
   "execution_count": 2,
   "metadata": {},
   "outputs": [],
   "source": [
    "os.chdir(\"../\")\n",
    "os.chdir(\"FinalDataset\")"
   ]
  },
  {
   "cell_type": "code",
   "execution_count": 3,
   "metadata": {},
   "outputs": [],
   "source": [
    "data = pd.read_csv(\"feature.csv\")"
   ]
  },
  {
   "cell_type": "code",
   "execution_count": 4,
   "metadata": {},
   "outputs": [
    {
     "data": {
      "text/html": [
       "<div>\n",
       "<style scoped>\n",
       "    .dataframe tbody tr th:only-of-type {\n",
       "        vertical-align: middle;\n",
       "    }\n",
       "\n",
       "    .dataframe tbody tr th {\n",
       "        vertical-align: top;\n",
       "    }\n",
       "\n",
       "    .dataframe thead th {\n",
       "        text-align: right;\n",
       "    }\n",
       "</style>\n",
       "<table border=\"1\" class=\"dataframe\">\n",
       "  <thead>\n",
       "    <tr style=\"text-align: right;\">\n",
       "      <th></th>\n",
       "      <th>Unnamed: 0</th>\n",
       "      <th>File</th>\n",
       "      <th>bodyLength</th>\n",
       "      <th>bscr</th>\n",
       "      <th>dse</th>\n",
       "      <th>dsr</th>\n",
       "      <th>entropy</th>\n",
       "      <th>hasHttp</th>\n",
       "      <th>hasHttps</th>\n",
       "      <th>has_ip</th>\n",
       "      <th>...</th>\n",
       "      <th>numParams</th>\n",
       "      <th>numTitles</th>\n",
       "      <th>num_%20</th>\n",
       "      <th>num_@</th>\n",
       "      <th>sbr</th>\n",
       "      <th>scriptLength</th>\n",
       "      <th>specialChars</th>\n",
       "      <th>sscr</th>\n",
       "      <th>urlIsLive</th>\n",
       "      <th>urlLength</th>\n",
       "    </tr>\n",
       "  </thead>\n",
       "  <tbody>\n",
       "    <tr>\n",
       "      <th>0</th>\n",
       "      <td>0</td>\n",
       "      <td>spam_dataset</td>\n",
       "      <td>31</td>\n",
       "      <td>0.064516</td>\n",
       "      <td>0</td>\n",
       "      <td>0</td>\n",
       "      <td>-4.708307</td>\n",
       "      <td>True</td>\n",
       "      <td>False</td>\n",
       "      <td>0</td>\n",
       "      <td>...</td>\n",
       "      <td>0</td>\n",
       "      <td>0</td>\n",
       "      <td>0</td>\n",
       "      <td>0</td>\n",
       "      <td>0.000000</td>\n",
       "      <td>0</td>\n",
       "      <td>2</td>\n",
       "      <td>0.000000</td>\n",
       "      <td>False</td>\n",
       "      <td>81</td>\n",
       "    </tr>\n",
       "    <tr>\n",
       "      <th>1</th>\n",
       "      <td>1</td>\n",
       "      <td>spam_dataset</td>\n",
       "      <td>64790</td>\n",
       "      <td>0.306050</td>\n",
       "      <td>0</td>\n",
       "      <td>0</td>\n",
       "      <td>-4.576882</td>\n",
       "      <td>True</td>\n",
       "      <td>False</td>\n",
       "      <td>0</td>\n",
       "      <td>...</td>\n",
       "      <td>0</td>\n",
       "      <td>19</td>\n",
       "      <td>0</td>\n",
       "      <td>0</td>\n",
       "      <td>0.923800</td>\n",
       "      <td>59853</td>\n",
       "      <td>19829</td>\n",
       "      <td>3.018458</td>\n",
       "      <td>False</td>\n",
       "      <td>58</td>\n",
       "    </tr>\n",
       "    <tr>\n",
       "      <th>2</th>\n",
       "      <td>2</td>\n",
       "      <td>spam_dataset</td>\n",
       "      <td>757</td>\n",
       "      <td>0.195509</td>\n",
       "      <td>0</td>\n",
       "      <td>0</td>\n",
       "      <td>-4.205536</td>\n",
       "      <td>True</td>\n",
       "      <td>False</td>\n",
       "      <td>0</td>\n",
       "      <td>...</td>\n",
       "      <td>0</td>\n",
       "      <td>1</td>\n",
       "      <td>0</td>\n",
       "      <td>0</td>\n",
       "      <td>0.000000</td>\n",
       "      <td>0</td>\n",
       "      <td>148</td>\n",
       "      <td>0.000000</td>\n",
       "      <td>False</td>\n",
       "      <td>46</td>\n",
       "    </tr>\n",
       "    <tr>\n",
       "      <th>3</th>\n",
       "      <td>3</td>\n",
       "      <td>spam_dataset</td>\n",
       "      <td>266310</td>\n",
       "      <td>0.230915</td>\n",
       "      <td>0</td>\n",
       "      <td>0</td>\n",
       "      <td>-4.550931</td>\n",
       "      <td>True</td>\n",
       "      <td>False</td>\n",
       "      <td>0</td>\n",
       "      <td>...</td>\n",
       "      <td>0</td>\n",
       "      <td>648</td>\n",
       "      <td>0</td>\n",
       "      <td>0</td>\n",
       "      <td>0.312647</td>\n",
       "      <td>83261</td>\n",
       "      <td>61495</td>\n",
       "      <td>1.353947</td>\n",
       "      <td>False</td>\n",
       "      <td>52</td>\n",
       "    </tr>\n",
       "    <tr>\n",
       "      <th>4</th>\n",
       "      <td>4</td>\n",
       "      <td>spam_dataset</td>\n",
       "      <td>40</td>\n",
       "      <td>0.200000</td>\n",
       "      <td>0</td>\n",
       "      <td>0</td>\n",
       "      <td>-4.689336</td>\n",
       "      <td>True</td>\n",
       "      <td>False</td>\n",
       "      <td>0</td>\n",
       "      <td>...</td>\n",
       "      <td>2</td>\n",
       "      <td>1</td>\n",
       "      <td>0</td>\n",
       "      <td>0</td>\n",
       "      <td>0.000000</td>\n",
       "      <td>0</td>\n",
       "      <td>8</td>\n",
       "      <td>0.000000</td>\n",
       "      <td>False</td>\n",
       "      <td>83</td>\n",
       "    </tr>\n",
       "  </tbody>\n",
       "</table>\n",
       "<p>5 rows × 23 columns</p>\n",
       "</div>"
      ],
      "text/plain": [
       "   Unnamed: 0          File  bodyLength      bscr  dse  dsr   entropy  \\\n",
       "0           0  spam_dataset          31  0.064516    0    0 -4.708307   \n",
       "1           1  spam_dataset       64790  0.306050    0    0 -4.576882   \n",
       "2           2  spam_dataset         757  0.195509    0    0 -4.205536   \n",
       "3           3  spam_dataset      266310  0.230915    0    0 -4.550931   \n",
       "4           4  spam_dataset          40  0.200000    0    0 -4.689336   \n",
       "\n",
       "   hasHttp  hasHttps  has_ip  ...  numParams  numTitles  num_%20  num_@  \\\n",
       "0     True     False       0  ...          0          0        0      0   \n",
       "1     True     False       0  ...          0         19        0      0   \n",
       "2     True     False       0  ...          0          1        0      0   \n",
       "3     True     False       0  ...          0        648        0      0   \n",
       "4     True     False       0  ...          2          1        0      0   \n",
       "\n",
       "        sbr  scriptLength  specialChars      sscr  urlIsLive  urlLength  \n",
       "0  0.000000             0             2  0.000000      False         81  \n",
       "1  0.923800         59853         19829  3.018458      False         58  \n",
       "2  0.000000             0           148  0.000000      False         46  \n",
       "3  0.312647         83261         61495  1.353947      False         52  \n",
       "4  0.000000             0             8  0.000000      False         83  \n",
       "\n",
       "[5 rows x 23 columns]"
      ]
     },
     "execution_count": 4,
     "metadata": {},
     "output_type": "execute_result"
    }
   ],
   "source": [
    "data.head()"
   ]
  },
  {
   "cell_type": "code",
   "execution_count": 5,
   "metadata": {},
   "outputs": [
    {
     "data": {
      "text/plain": [
       "{'Benign_list_big_final',\n",
       " 'Defacement',\n",
       " 'Malware_dataset',\n",
       " 'phishing_dataset',\n",
       " 'spam_dataset'}"
      ]
     },
     "execution_count": 5,
     "metadata": {},
     "output_type": "execute_result"
    }
   ],
   "source": [
    "set(data['File'])"
   ]
  },
  {
   "cell_type": "code",
   "execution_count": 6,
   "metadata": {},
   "outputs": [],
   "source": [
    "data.replace(\"Benign_list_big_final\",\"Benign\",inplace=True)\n",
    "data.replace(\"Malware_dataset\",\"Malware\",inplace=True)\n",
    "data.replace(\"phishing_dataset\",\"Phishing\",inplace=True)\n",
    "data.replace(\"spam_dataset\",\"Spam\",inplace=True)"
   ]
  },
  {
   "cell_type": "code",
   "execution_count": 7,
   "metadata": {},
   "outputs": [],
   "source": [
    "data.drop(columns='Unnamed: 0',inplace=True)\n",
    "data.replace(True,1,inplace = True)\n",
    "data.replace(False,0,inplace = True)\n",
    "y = data[\"File\"]"
   ]
  },
  {
   "cell_type": "code",
   "execution_count": 8,
   "metadata": {},
   "outputs": [],
   "source": [
    "data = data.drop(columns = \"File\")"
   ]
  },
  {
   "cell_type": "code",
   "execution_count": 9,
   "metadata": {},
   "outputs": [],
   "source": [
    "encoder = LabelEncoder()\n",
    "encoder.fit(y)\n",
    "Y = encoder.transform(y)"
   ]
  },
  {
   "cell_type": "code",
   "execution_count": 10,
   "metadata": {},
   "outputs": [],
   "source": [
    "scaler = MinMaxScaler(feature_range=(0, 1))\n",
    "X = scaler.fit_transform(data)\n",
    "X = pd.DataFrame(X)"
   ]
  },
  {
   "cell_type": "code",
   "execution_count": 11,
   "metadata": {},
   "outputs": [],
   "source": [
    "from keras.models import Sequential\n",
    "from keras.layers import LSTM, Dense, Dropout, Masking, Embedding\n",
    "\n",
    "input_dim = len(data.columns)\n",
    "model = Sequential()\n",
    "model.add(Dense(256, input_dim = input_dim , activation = 'relu'))\n",
    "model.add(Dense(128, activation = 'relu'))\n",
    "model.add(Dense(64, activation = 'relu'))\n",
    "model.add(Dense(32, activation = 'relu'))\n",
    "model.add(Dense(16, activation = 'relu'))\n",
    "model.add(Dense(5, activation = 'softmax'))\n",
    "\n",
    "model.compile(loss = 'categorical_crossentropy' , optimizer = 'adam' , metrics = ['accuracy'] )"
   ]
  },
  {
   "cell_type": "code",
   "execution_count": 12,
   "metadata": {},
   "outputs": [],
   "source": [
    "X_train, X_test, y_train, y_test = train_test_split(X, Y, test_size=0.25, random_state=42)"
   ]
  },
  {
   "cell_type": "code",
   "execution_count": 13,
   "metadata": {},
   "outputs": [
    {
     "name": "stdout",
     "output_type": "stream",
     "text": [
      "Epoch 1/50\n",
      "224/224 [==============================] - 1s 4ms/step - loss: 1.2592 - accuracy: 0.4481 - val_loss: 1.0809 - val_accuracy: 0.5421\n",
      "Epoch 2/50\n",
      "224/224 [==============================] - 1s 3ms/step - loss: 0.9683 - accuracy: 0.6110 - val_loss: 0.9297 - val_accuracy: 0.6162\n",
      "Epoch 3/50\n",
      "224/224 [==============================] - 1s 3ms/step - loss: 0.8358 - accuracy: 0.6728 - val_loss: 0.7926 - val_accuracy: 0.6917\n",
      "Epoch 4/50\n",
      "224/224 [==============================] - 1s 4ms/step - loss: 0.7545 - accuracy: 0.7004 - val_loss: 0.7121 - val_accuracy: 0.7214\n",
      "Epoch 5/50\n",
      "224/224 [==============================] - 1s 3ms/step - loss: 0.7032 - accuracy: 0.7188 - val_loss: 0.7806 - val_accuracy: 0.7011\n",
      "Epoch 6/50\n",
      "224/224 [==============================] - 1s 3ms/step - loss: 0.6738 - accuracy: 0.7381 - val_loss: 0.6602 - val_accuracy: 0.7372\n",
      "Epoch 7/50\n",
      "224/224 [==============================] - 1s 3ms/step - loss: 0.6469 - accuracy: 0.7468 - val_loss: 0.6695 - val_accuracy: 0.7249\n",
      "Epoch 8/50\n",
      "224/224 [==============================] - 1s 3ms/step - loss: 0.6253 - accuracy: 0.7572 - val_loss: 0.6647 - val_accuracy: 0.7421\n",
      "Epoch 9/50\n",
      "224/224 [==============================] - 1s 3ms/step - loss: 0.6124 - accuracy: 0.7624 - val_loss: 0.5858 - val_accuracy: 0.7746\n",
      "Epoch 10/50\n",
      "224/224 [==============================] - 1s 3ms/step - loss: 0.5869 - accuracy: 0.7732 - val_loss: 0.6038 - val_accuracy: 0.7645\n",
      "Epoch 11/50\n",
      "224/224 [==============================] - 1s 3ms/step - loss: 0.5816 - accuracy: 0.7760 - val_loss: 0.6017 - val_accuracy: 0.7613\n",
      "Epoch 12/50\n",
      "224/224 [==============================] - 1s 3ms/step - loss: 0.5673 - accuracy: 0.7820 - val_loss: 0.5647 - val_accuracy: 0.7804\n",
      "Epoch 13/50\n",
      "224/224 [==============================] - 1s 3ms/step - loss: 0.5660 - accuracy: 0.7805 - val_loss: 0.5691 - val_accuracy: 0.7709\n",
      "Epoch 14/50\n",
      "224/224 [==============================] - 1s 3ms/step - loss: 0.5440 - accuracy: 0.7892 - val_loss: 0.5537 - val_accuracy: 0.7874\n",
      "Epoch 15/50\n",
      "224/224 [==============================] - 1s 3ms/step - loss: 0.5435 - accuracy: 0.7894 - val_loss: 0.5459 - val_accuracy: 0.7889\n",
      "Epoch 16/50\n",
      "224/224 [==============================] - 1s 3ms/step - loss: 0.5303 - accuracy: 0.7946 - val_loss: 0.5567 - val_accuracy: 0.7806\n",
      "Epoch 17/50\n",
      "224/224 [==============================] - 1s 3ms/step - loss: 0.5207 - accuracy: 0.7950 - val_loss: 0.5306 - val_accuracy: 0.7980\n",
      "Epoch 18/50\n",
      "224/224 [==============================] - 1s 3ms/step - loss: 0.5172 - accuracy: 0.7983 - val_loss: 0.5588 - val_accuracy: 0.7764\n",
      "Epoch 19/50\n",
      "224/224 [==============================] - 1s 3ms/step - loss: 0.5133 - accuracy: 0.7982 - val_loss: 0.5220 - val_accuracy: 0.7916\n",
      "Epoch 20/50\n",
      "224/224 [==============================] - 1s 3ms/step - loss: 0.5070 - accuracy: 0.7986 - val_loss: 0.5182 - val_accuracy: 0.8024\n",
      "Epoch 21/50\n",
      "224/224 [==============================] - 1s 3ms/step - loss: 0.4981 - accuracy: 0.8062 - val_loss: 0.5025 - val_accuracy: 0.8073\n",
      "Epoch 22/50\n",
      "224/224 [==============================] - 1s 3ms/step - loss: 0.5035 - accuracy: 0.8030 - val_loss: 0.5069 - val_accuracy: 0.8015\n",
      "Epoch 23/50\n",
      "224/224 [==============================] - 1s 3ms/step - loss: 0.4949 - accuracy: 0.8057 - val_loss: 0.5105 - val_accuracy: 0.8038\n",
      "Epoch 24/50\n",
      "224/224 [==============================] - 1s 3ms/step - loss: 0.4907 - accuracy: 0.8073 - val_loss: 0.4970 - val_accuracy: 0.8064\n",
      "Epoch 25/50\n",
      "224/224 [==============================] - 1s 3ms/step - loss: 0.4829 - accuracy: 0.8105 - val_loss: 0.4858 - val_accuracy: 0.8189\n",
      "Epoch 26/50\n",
      "224/224 [==============================] - 1s 3ms/step - loss: 0.4854 - accuracy: 0.8087 - val_loss: 0.4908 - val_accuracy: 0.8144\n",
      "Epoch 27/50\n",
      "224/224 [==============================] - 1s 3ms/step - loss: 0.4751 - accuracy: 0.8132 - val_loss: 0.4948 - val_accuracy: 0.8113\n",
      "Epoch 28/50\n",
      "224/224 [==============================] - 1s 3ms/step - loss: 0.4767 - accuracy: 0.8126 - val_loss: 0.4849 - val_accuracy: 0.8156\n",
      "Epoch 29/50\n",
      "224/224 [==============================] - 1s 3ms/step - loss: 0.4679 - accuracy: 0.8152 - val_loss: 0.4788 - val_accuracy: 0.8162\n",
      "Epoch 30/50\n",
      "224/224 [==============================] - 1s 3ms/step - loss: 0.4609 - accuracy: 0.8195 - val_loss: 0.4849 - val_accuracy: 0.8151\n",
      "Epoch 31/50\n",
      "224/224 [==============================] - 1s 3ms/step - loss: 0.4606 - accuracy: 0.8203 - val_loss: 0.4721 - val_accuracy: 0.8174\n",
      "Epoch 32/50\n",
      "224/224 [==============================] - 1s 3ms/step - loss: 0.4575 - accuracy: 0.8197 - val_loss: 0.4893 - val_accuracy: 0.8082\n",
      "Epoch 33/50\n",
      "224/224 [==============================] - 1s 3ms/step - loss: 0.4531 - accuracy: 0.8223 - val_loss: 0.4848 - val_accuracy: 0.8145\n",
      "Epoch 34/50\n",
      "224/224 [==============================] - 1s 3ms/step - loss: 0.4456 - accuracy: 0.8252 - val_loss: 0.4903 - val_accuracy: 0.8080\n",
      "Epoch 35/50\n",
      "224/224 [==============================] - 1s 3ms/step - loss: 0.4462 - accuracy: 0.8230 - val_loss: 0.4645 - val_accuracy: 0.8227\n",
      "Epoch 36/50\n",
      "224/224 [==============================] - 1s 3ms/step - loss: 0.4519 - accuracy: 0.8220 - val_loss: 0.4757 - val_accuracy: 0.8196\n",
      "Epoch 37/50\n",
      "224/224 [==============================] - 1s 3ms/step - loss: 0.4406 - accuracy: 0.8255 - val_loss: 0.4727 - val_accuracy: 0.8143\n",
      "Epoch 38/50\n",
      "224/224 [==============================] - 1s 3ms/step - loss: 0.4419 - accuracy: 0.8281 - val_loss: 0.4785 - val_accuracy: 0.8120\n",
      "Epoch 39/50\n",
      "224/224 [==============================] - 1s 3ms/step - loss: 0.4374 - accuracy: 0.8271 - val_loss: 0.4634 - val_accuracy: 0.8271\n",
      "Epoch 40/50\n",
      "224/224 [==============================] - 1s 2ms/step - loss: 0.4335 - accuracy: 0.8279 - val_loss: 0.4688 - val_accuracy: 0.8226\n",
      "Epoch 41/50\n",
      "224/224 [==============================] - 1s 3ms/step - loss: 0.4281 - accuracy: 0.8301 - val_loss: 0.4693 - val_accuracy: 0.8261\n",
      "Epoch 42/50\n",
      "224/224 [==============================] - 1s 3ms/step - loss: 0.4242 - accuracy: 0.8341 - val_loss: 0.4641 - val_accuracy: 0.8250\n",
      "Epoch 43/50\n",
      "224/224 [==============================] - 1s 3ms/step - loss: 0.4248 - accuracy: 0.8326 - val_loss: 0.4660 - val_accuracy: 0.8229\n",
      "Epoch 44/50\n",
      "224/224 [==============================] - 1s 3ms/step - loss: 0.4270 - accuracy: 0.8326 - val_loss: 0.4835 - val_accuracy: 0.8205\n",
      "Epoch 45/50\n",
      "224/224 [==============================] - 1s 3ms/step - loss: 0.4203 - accuracy: 0.8345 - val_loss: 0.4583 - val_accuracy: 0.8306\n",
      "Epoch 46/50\n",
      "224/224 [==============================] - 1s 3ms/step - loss: 0.4182 - accuracy: 0.8366 - val_loss: 0.4446 - val_accuracy: 0.8368\n",
      "Epoch 47/50\n",
      "224/224 [==============================] - 1s 3ms/step - loss: 0.4138 - accuracy: 0.8379 - val_loss: 0.4504 - val_accuracy: 0.8273\n",
      "Epoch 48/50\n",
      "224/224 [==============================] - 1s 3ms/step - loss: 0.4107 - accuracy: 0.8399 - val_loss: 0.4527 - val_accuracy: 0.8274\n",
      "Epoch 49/50\n",
      "224/224 [==============================] - 1s 3ms/step - loss: 0.4169 - accuracy: 0.8381 - val_loss: 0.4521 - val_accuracy: 0.8308\n",
      "Epoch 50/50\n",
      "224/224 [==============================] - 1s 3ms/step - loss: 0.4128 - accuracy: 0.8377 - val_loss: 0.4465 - val_accuracy: 0.8372\n"
     ]
    },
    {
     "data": {
      "text/plain": [
       "<keras.callbacks.History at 0x20d9aa659f0>"
      ]
     },
     "execution_count": 13,
     "metadata": {},
     "output_type": "execute_result"
    }
   ],
   "source": [
    "model.fit(X_train,np_utils.to_categorical(y_train),epochs = 50,validation_split=0.3, batch_size = 128)"
   ]
  },
  {
   "cell_type": "code",
   "execution_count": 14,
   "metadata": {},
   "outputs": [],
   "source": [
    "y_pred = model.predict(X_test)"
   ]
  },
  {
   "cell_type": "code",
   "execution_count": 15,
   "metadata": {},
   "outputs": [],
   "source": [
    "predicted = np.argmax(y_pred, axis=1)"
   ]
  },
  {
   "cell_type": "code",
   "execution_count": 16,
   "metadata": {},
   "outputs": [
    {
     "name": "stdout",
     "output_type": "stream",
     "text": [
      "0.8437614611604196\n"
     ]
    }
   ],
   "source": [
    "from sklearn.metrics import classification_report\n",
    "print(accuracy_score(y_test,predicted))"
   ]
  },
  {
   "cell_type": "code",
   "execution_count": 17,
   "metadata": {},
   "outputs": [
    {
     "name": "stdout",
     "output_type": "stream",
     "text": [
      "              precision    recall  f1-score   support\n",
      "\n",
      "      Benign       0.91      0.96      0.93      2735\n",
      "  Defacement       0.79      0.73      0.76      2499\n",
      "     Malware       0.78      0.92      0.85      2834\n",
      "    Phishing       0.84      0.71      0.77      2477\n",
      "        Spam       0.89      0.86      0.88      3088\n",
      "\n",
      "    accuracy                           0.84     13633\n",
      "   macro avg       0.84      0.84      0.84     13633\n",
      "weighted avg       0.84      0.84      0.84     13633\n",
      "\n"
     ]
    }
   ],
   "source": [
    "target_names = ['Benign','Defacement','Malware','Phishing','Spam']\n",
    "print(classification_report(y_test, predicted, target_names=target_names))"
   ]
  },
  {
   "cell_type": "code",
   "execution_count": 18,
   "metadata": {},
   "outputs": [],
   "source": [
    "os.chdir(\"../\")\n",
    "os.chdir(\"models\")\n",
    "model.save(\"Model_v2.h5\")\n",
    "np.save('lblenc_v1.npy', encoder.classes_)\n",
    "scalerfile = 'scaler_v1.sav'\n",
    "pickle.dump(scaler, open(scalerfile, 'wb'))"
   ]
  },
  {
   "cell_type": "code",
   "execution_count": 19,
   "metadata": {},
   "outputs": [],
   "source": [
    "import pathlib"
   ]
  },
  {
   "cell_type": "code",
   "execution_count": 20,
   "metadata": {},
   "outputs": [
    {
     "name": "stdout",
     "output_type": "stream",
     "text": [
      "INFO:tensorflow:Assets written to: C:\\Users\\candra\\AppData\\Local\\Temp\\tmpfs4bthpp\\assets\n"
     ]
    },
    {
     "name": "stderr",
     "output_type": "stream",
     "text": [
      "WARNING:absl:Buffer deduplication procedure will be skipped when flatbuffer library is not properly loaded\n"
     ]
    },
    {
     "data": {
      "text/plain": [
       "200812"
      ]
     },
     "execution_count": 20,
     "metadata": {},
     "output_type": "execute_result"
    }
   ],
   "source": [
    "\n",
    "model = ts.keras.models.load_model('Model_v2.h5')\n",
    "converter = ts.lite.TFLiteConverter.from_keras_model(model)\n",
    "tflite_model = converter.convert()\n",
    "open(\"tflite_model.tflite\", \"wb\").write(tflite_model)"
   ]
  },
  {
   "cell_type": "code",
   "execution_count": 21,
   "metadata": {},
   "outputs": [
    {
     "name": "stdout",
     "output_type": "stream",
     "text": [
      "INFO:tensorflow:Assets written to: C:\\Users\\candra\\AppData\\Local\\Temp\\tmpr3j9f3lr\\assets\n"
     ]
    },
    {
     "name": "stderr",
     "output_type": "stream",
     "text": [
      "INFO:tensorflow:Assets written to: C:\\Users\\candra\\AppData\\Local\\Temp\\tmpr3j9f3lr\\assets\n",
      "WARNING:absl:Buffer deduplication procedure will be skipped when flatbuffer library is not properly loaded\n"
     ]
    }
   ],
   "source": [
    "model = ts.keras.models.load_model('Model_v2.h5')\n",
    "converter = ts.lite.TFLiteConverter.from_keras_model(model)\n",
    "converter.optimizations = [ts.lite.Optimize.DEFAULT]\n",
    "tflite_quant_model = converter.convert()"
   ]
  },
  {
   "cell_type": "code",
   "execution_count": 22,
   "metadata": {},
   "outputs": [
    {
     "data": {
      "text/plain": [
       "56032"
      ]
     },
     "execution_count": 22,
     "metadata": {},
     "output_type": "execute_result"
    }
   ],
   "source": [
    "tflite_model_file = pathlib.Path('tflite_quant_model.tflite')\n",
    "tflite_model_file.write_bytes(tflite_quant_model)"
   ]
  },
  {
   "cell_type": "code",
   "execution_count": null,
   "metadata": {},
   "outputs": [],
   "source": []
  }
 ],
 "metadata": {
  "kernelspec": {
   "display_name": "Python 3",
   "language": "python",
   "name": "python3"
  },
  "language_info": {
   "codemirror_mode": {
    "name": "ipython",
    "version": 3
   },
   "file_extension": ".py",
   "mimetype": "text/x-python",
   "name": "python",
   "nbconvert_exporter": "python",
   "pygments_lexer": "ipython3",
   "version": "3.10.0"
  },
  "toc": {
   "base_numbering": 1,
   "nav_menu": {},
   "number_sections": false,
   "sideBar": false,
   "skip_h1_title": false,
   "title_cell": "Table of Contents",
   "title_sidebar": "Contents",
   "toc_cell": false,
   "toc_position": {},
   "toc_section_display": false,
   "toc_window_display": false
  }
 },
 "nbformat": 4,
 "nbformat_minor": 5
}
