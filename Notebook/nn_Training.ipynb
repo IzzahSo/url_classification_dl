{
 "cells": [
  {
   "cell_type": "code",
   "execution_count": 17,
   "id": "f773e66d",
   "metadata": {},
   "outputs": [],
   "source": [
    "import os\n",
    "import pandas as pd\n",
    "import tensorflow as ts\n",
    "import numpy as np\n",
    "from sklearn.preprocessing import LabelEncoder\n",
    "from keras.utils.np_utils import to_categorical\n",
    "from sklearn.model_selection import train_test_split\n",
    "from sklearn.metrics import accuracy_score,f1_score,precision_score,recall_score\n",
    "from sklearn.preprocessing import MinMaxScaler\n",
    "from keras.utils import np_utils\n",
    "from keras import backend as K"
   ]
  },
  {
   "cell_type": "code",
   "execution_count": 18,
   "id": "edc99161",
   "metadata": {},
   "outputs": [],
   "source": [
    "os.chdir(\"../\")\n",
    "os.chdir(\"FinalDataset\")"
   ]
  },
  {
   "cell_type": "code",
   "execution_count": 3,
   "id": "2cd9d9f9",
   "metadata": {},
   "outputs": [],
   "source": [
    "def recall_m(y_true, y_pred):\n",
    "    true_positives = K.sum(K.round(K.clip(y_true * y_pred, 0, 1)))\n",
    "    possible_positives = K.sum(K.round(K.clip(y_true, 0, 1)))\n",
    "    recall = true_positives / (possible_positives + K.epsilon())\n",
    "    return recall\n",
    "\n",
    "def precision_m(y_true, y_pred):\n",
    "    true_positives = K.sum(K.round(K.clip(y_true * y_pred, 0, 1)))\n",
    "    predicted_positives = K.sum(K.round(K.clip(y_pred, 0, 1)))\n",
    "    precision = true_positives / (predicted_positives + K.epsilon())\n",
    "    return precision\n",
    "\n",
    "def f1_m(y_true, y_pred):\n",
    "    precision = precision_m(y_true, y_pred)\n",
    "    recall = recall_m(y_true, y_pred)\n",
    "    return 2*((precision*recall)/(precision+recall+K.epsilon()))"
   ]
  },
  {
   "cell_type": "code",
   "execution_count": 4,
   "id": "fc22505d",
   "metadata": {},
   "outputs": [],
   "source": [
    "data = pd.read_csv(\"feature.csv\")"
   ]
  },
  {
   "cell_type": "code",
   "execution_count": 5,
   "id": "5ac40ef2",
   "metadata": {},
   "outputs": [],
   "source": [
    "data.drop(columns='Unnamed: 0',inplace=True)\n",
    "data.replace(True,1,inplace = True)\n",
    "data.replace(False,0,inplace = True)\n",
    "y = data[\"File\"]"
   ]
  },
  {
   "cell_type": "code",
   "execution_count": 6,
   "id": "a72194f1",
   "metadata": {},
   "outputs": [],
   "source": [
    "data = data.drop(columns = \"File\")"
   ]
  },
  {
   "cell_type": "code",
   "execution_count": 7,
   "id": "8e379eb8",
   "metadata": {},
   "outputs": [],
   "source": [
    "encoder = LabelEncoder()\n",
    "Y = encoder.fit_transform(y)"
   ]
  },
  {
   "cell_type": "code",
   "execution_count": 8,
   "id": "f4195013",
   "metadata": {},
   "outputs": [],
   "source": [
    "scaler = MinMaxScaler(feature_range=(0, 1))\n",
    "X = scaler.fit_transform(data)\n",
    "X = pd.DataFrame(X)"
   ]
  },
  {
   "cell_type": "code",
   "execution_count": 9,
   "id": "ccb75a82",
   "metadata": {},
   "outputs": [],
   "source": [
    "from keras.models import Sequential\n",
    "from keras.layers import LSTM, Dense, Dropout, Masking, Embedding\n",
    "\n",
    "input_dim = len(data.columns)\n",
    "model = Sequential()\n",
    "model.add(Dense(256, input_dim = input_dim , activation = 'relu'))\n",
    "model.add(Dense(128, activation = 'relu'))\n",
    "model.add(Dense(64, activation = 'relu'))\n",
    "model.add(Dense(32, activation = 'relu'))\n",
    "model.add(Dense(16, activation = 'relu'))\n",
    "model.add(Dense(5, activation = 'softmax'))\n",
    "\n",
    "model.compile(loss = 'categorical_crossentropy' , optimizer = 'adam' , metrics = ['accuracy',f1_m,precision_m, recall_m] )"
   ]
  },
  {
   "cell_type": "code",
   "execution_count": 10,
   "id": "bb01b3c2",
   "metadata": {},
   "outputs": [],
   "source": [
    "X_train, X_test, y_train, y_test = train_test_split(X, Y, test_size=0.25, random_state=42)"
   ]
  },
  {
   "cell_type": "code",
   "execution_count": 11,
   "id": "01d60b3f",
   "metadata": {},
   "outputs": [
    {
     "name": "stdout",
     "output_type": "stream",
     "text": [
      "Epoch 1/50\n",
      "WARNING:tensorflow:AutoGraph could not transform <bound method Dense.call of <keras.layers.core.Dense object at 0x7fa37e773490>> and will run it as-is.\n",
      "Please report this to the TensorFlow team. When filing the bug, set the verbosity to 10 (on Linux, `export AUTOGRAPH_VERBOSITY=10`) and attach the full output.\n",
      "Cause: invalid syntax (tmpqa2vs_ed.py, line 48)\n",
      "To silence this warning, decorate the function with @tf.autograph.experimental.do_not_convert\n",
      "WARNING: AutoGraph could not transform <bound method Dense.call of <keras.layers.core.Dense object at 0x7fa37e773490>> and will run it as-is.\n",
      "Please report this to the TensorFlow team. When filing the bug, set the verbosity to 10 (on Linux, `export AUTOGRAPH_VERBOSITY=10`) and attach the full output.\n",
      "Cause: invalid syntax (tmpqa2vs_ed.py, line 48)\n",
      "To silence this warning, decorate the function with @tf.autograph.experimental.do_not_convert\n",
      "224/224 [==============================] - 11s 4ms/step - loss: 1.3620 - accuracy: 0.4093 - f1_m: 0.1779 - precision_m: 0.4893 - recall_m: 0.1168 - val_loss: 1.0085 - val_accuracy: 0.5808 - val_f1_m: 0.5627 - val_precision_m: 0.7996 - val_recall_m: 0.4350\n",
      "Epoch 2/50\n",
      "224/224 [==============================] - 0s 2ms/step - loss: 0.9794 - accuracy: 0.6054 - f1_m: 0.5776 - precision_m: 0.7829 - recall_m: 0.4593 - val_loss: 0.8922 - val_accuracy: 0.6589 - val_f1_m: 0.6341 - val_precision_m: 0.8187 - val_recall_m: 0.5184\n",
      "Epoch 3/50\n",
      "224/224 [==============================] - 0s 2ms/step - loss: 0.8533 - accuracy: 0.6640 - f1_m: 0.6390 - precision_m: 0.7995 - recall_m: 0.5338 - val_loss: 0.7936 - val_accuracy: 0.6796 - val_f1_m: 0.6569 - val_precision_m: 0.7823 - val_recall_m: 0.5667\n",
      "Epoch 4/50\n",
      "224/224 [==============================] - 0s 2ms/step - loss: 0.7534 - accuracy: 0.7003 - f1_m: 0.6819 - precision_m: 0.8137 - recall_m: 0.5882 - val_loss: 0.7477 - val_accuracy: 0.7037 - val_f1_m: 0.6972 - val_precision_m: 0.7979 - val_recall_m: 0.6197\n",
      "Epoch 5/50\n",
      "224/224 [==============================] - 0s 2ms/step - loss: 0.7166 - accuracy: 0.7194 - f1_m: 0.7052 - precision_m: 0.8190 - recall_m: 0.6201 - val_loss: 0.6639 - val_accuracy: 0.7496 - val_f1_m: 0.7311 - val_precision_m: 0.8434 - val_recall_m: 0.6458\n",
      "Epoch 6/50\n",
      "224/224 [==============================] - 0s 2ms/step - loss: 0.6662 - accuracy: 0.7431 - f1_m: 0.7316 - precision_m: 0.8375 - recall_m: 0.6504 - val_loss: 0.6421 - val_accuracy: 0.7574 - val_f1_m: 0.7384 - val_precision_m: 0.8420 - val_recall_m: 0.6581\n",
      "Epoch 7/50\n",
      "224/224 [==============================] - 0s 2ms/step - loss: 0.6391 - accuracy: 0.7547 - f1_m: 0.7443 - precision_m: 0.8405 - recall_m: 0.6687 - val_loss: 0.6685 - val_accuracy: 0.7367 - val_f1_m: 0.7357 - val_precision_m: 0.8190 - val_recall_m: 0.6682\n",
      "Epoch 8/50\n",
      "224/224 [==============================] - 0s 2ms/step - loss: 0.6095 - accuracy: 0.7655 - f1_m: 0.7593 - precision_m: 0.8422 - recall_m: 0.6920 - val_loss: 0.6041 - val_accuracy: 0.7686 - val_f1_m: 0.7559 - val_precision_m: 0.8499 - val_recall_m: 0.6812\n",
      "Epoch 9/50\n",
      "224/224 [==============================] - 0s 2ms/step - loss: 0.5944 - accuracy: 0.7761 - f1_m: 0.7709 - precision_m: 0.8506 - recall_m: 0.7054 - val_loss: 0.6121 - val_accuracy: 0.7669 - val_f1_m: 0.7630 - val_precision_m: 0.8380 - val_recall_m: 0.7007\n",
      "Epoch 10/50\n",
      "224/224 [==============================] - 0s 2ms/step - loss: 0.6011 - accuracy: 0.7668 - f1_m: 0.7630 - precision_m: 0.8402 - recall_m: 0.6994 - val_loss: 0.5739 - val_accuracy: 0.7775 - val_f1_m: 0.7735 - val_precision_m: 0.8477 - val_recall_m: 0.7116\n",
      "Epoch 11/50\n",
      "224/224 [==============================] - 0s 2ms/step - loss: 0.5713 - accuracy: 0.7805 - f1_m: 0.7756 - precision_m: 0.8510 - recall_m: 0.7130 - val_loss: 0.5735 - val_accuracy: 0.7824 - val_f1_m: 0.7768 - val_precision_m: 0.8456 - val_recall_m: 0.7187\n",
      "Epoch 12/50\n",
      "224/224 [==============================] - 0s 2ms/step - loss: 0.5587 - accuracy: 0.7876 - f1_m: 0.7804 - precision_m: 0.8528 - recall_m: 0.7197 - val_loss: 0.5636 - val_accuracy: 0.7844 - val_f1_m: 0.7833 - val_precision_m: 0.8505 - val_recall_m: 0.7263\n",
      "Epoch 13/50\n",
      "224/224 [==============================] - 0s 2ms/step - loss: 0.5540 - accuracy: 0.7861 - f1_m: 0.7813 - precision_m: 0.8478 - recall_m: 0.7250 - val_loss: 0.5583 - val_accuracy: 0.7869 - val_f1_m: 0.7794 - val_precision_m: 0.8537 - val_recall_m: 0.7175\n",
      "Epoch 14/50\n",
      "224/224 [==============================] - 0s 2ms/step - loss: 0.5384 - accuracy: 0.7921 - f1_m: 0.7870 - precision_m: 0.8549 - recall_m: 0.7297 - val_loss: 0.5445 - val_accuracy: 0.7960 - val_f1_m: 0.7902 - val_precision_m: 0.8574 - val_recall_m: 0.7331\n",
      "Epoch 15/50\n",
      "224/224 [==============================] - 0s 2ms/step - loss: 0.5284 - accuracy: 0.7953 - f1_m: 0.7920 - precision_m: 0.8574 - recall_m: 0.7364 - val_loss: 0.5428 - val_accuracy: 0.7889 - val_f1_m: 0.7870 - val_precision_m: 0.8468 - val_recall_m: 0.7354\n",
      "Epoch 16/50\n",
      "224/224 [==============================] - 0s 2ms/step - loss: 0.5208 - accuracy: 0.8003 - f1_m: 0.7959 - precision_m: 0.8601 - recall_m: 0.7411 - val_loss: 0.5311 - val_accuracy: 0.7996 - val_f1_m: 0.7903 - val_precision_m: 0.8616 - val_recall_m: 0.7304\n",
      "Epoch 17/50\n",
      "224/224 [==============================] - 0s 2ms/step - loss: 0.5096 - accuracy: 0.8023 - f1_m: 0.7979 - precision_m: 0.8627 - recall_m: 0.7427 - val_loss: 0.5429 - val_accuracy: 0.7923 - val_f1_m: 0.7880 - val_precision_m: 0.8350 - val_recall_m: 0.7463\n",
      "Epoch 18/50\n",
      "224/224 [==============================] - 0s 2ms/step - loss: 0.5057 - accuracy: 0.8028 - f1_m: 0.8027 - precision_m: 0.8615 - recall_m: 0.7519 - val_loss: 0.5235 - val_accuracy: 0.8021 - val_f1_m: 0.7930 - val_precision_m: 0.8616 - val_recall_m: 0.7349\n",
      "Epoch 19/50\n",
      "224/224 [==============================] - 0s 2ms/step - loss: 0.5077 - accuracy: 0.8020 - f1_m: 0.7979 - precision_m: 0.8589 - recall_m: 0.7455 - val_loss: 0.5189 - val_accuracy: 0.7960 - val_f1_m: 0.7961 - val_precision_m: 0.8565 - val_recall_m: 0.7440\n",
      "Epoch 20/50\n",
      "224/224 [==============================] - 0s 2ms/step - loss: 0.5155 - accuracy: 0.7981 - f1_m: 0.7958 - precision_m: 0.8578 - recall_m: 0.7428 - val_loss: 0.5385 - val_accuracy: 0.7810 - val_f1_m: 0.7879 - val_precision_m: 0.8448 - val_recall_m: 0.7385\n",
      "Epoch 21/50\n",
      "224/224 [==============================] - 0s 2ms/step - loss: 0.4898 - accuracy: 0.8102 - f1_m: 0.8076 - precision_m: 0.8645 - recall_m: 0.7583 - val_loss: 0.5402 - val_accuracy: 0.7874 - val_f1_m: 0.7932 - val_precision_m: 0.8474 - val_recall_m: 0.7459\n",
      "Epoch 22/50\n",
      "224/224 [==============================] - 0s 2ms/step - loss: 0.4959 - accuracy: 0.8069 - f1_m: 0.8045 - precision_m: 0.8624 - recall_m: 0.7543 - val_loss: 0.4994 - val_accuracy: 0.8109 - val_f1_m: 0.8033 - val_precision_m: 0.8624 - val_recall_m: 0.7521\n",
      "Epoch 23/50\n",
      "224/224 [==============================] - 0s 2ms/step - loss: 0.4805 - accuracy: 0.8099 - f1_m: 0.8092 - precision_m: 0.8672 - recall_m: 0.7590 - val_loss: 0.5182 - val_accuracy: 0.8009 - val_f1_m: 0.8011 - val_precision_m: 0.8456 - val_recall_m: 0.7614\n",
      "Epoch 24/50\n",
      "224/224 [==============================] - 0s 2ms/step - loss: 0.4772 - accuracy: 0.8164 - f1_m: 0.8143 - precision_m: 0.8681 - recall_m: 0.7673 - val_loss: 0.4832 - val_accuracy: 0.8115 - val_f1_m: 0.8115 - val_precision_m: 0.8714 - val_recall_m: 0.7597\n",
      "Epoch 25/50\n",
      "224/224 [==============================] - 0s 2ms/step - loss: 0.4775 - accuracy: 0.8148 - f1_m: 0.8135 - precision_m: 0.8671 - recall_m: 0.7667 - val_loss: 0.4888 - val_accuracy: 0.8154 - val_f1_m: 0.8088 - val_precision_m: 0.8753 - val_recall_m: 0.7522\n",
      "Epoch 26/50\n",
      "224/224 [==============================] - 0s 2ms/step - loss: 0.4699 - accuracy: 0.8167 - f1_m: 0.8157 - precision_m: 0.8713 - recall_m: 0.7671 - val_loss: 0.4980 - val_accuracy: 0.8088 - val_f1_m: 0.8018 - val_precision_m: 0.8654 - val_recall_m: 0.7474\n",
      "Epoch 27/50\n",
      "224/224 [==============================] - 0s 2ms/step - loss: 0.4622 - accuracy: 0.8221 - f1_m: 0.8200 - precision_m: 0.8713 - recall_m: 0.7748 - val_loss: 0.5178 - val_accuracy: 0.7977 - val_f1_m: 0.7952 - val_precision_m: 0.8528 - val_recall_m: 0.7454\n",
      "Epoch 28/50\n"
     ]
    },
    {
     "name": "stdout",
     "output_type": "stream",
     "text": [
      "224/224 [==============================] - 0s 2ms/step - loss: 0.4703 - accuracy: 0.8142 - f1_m: 0.8119 - precision_m: 0.8659 - recall_m: 0.7645 - val_loss: 0.4994 - val_accuracy: 0.8104 - val_f1_m: 0.8093 - val_precision_m: 0.8685 - val_recall_m: 0.7580\n",
      "Epoch 29/50\n",
      "224/224 [==============================] - 0s 2ms/step - loss: 0.4587 - accuracy: 0.8243 - f1_m: 0.8224 - precision_m: 0.8755 - recall_m: 0.7757 - val_loss: 0.5090 - val_accuracy: 0.7977 - val_f1_m: 0.7997 - val_precision_m: 0.8551 - val_recall_m: 0.7515\n",
      "Epoch 30/50\n",
      "224/224 [==============================] - 0s 2ms/step - loss: 0.4508 - accuracy: 0.8239 - f1_m: 0.8230 - precision_m: 0.8750 - recall_m: 0.7771 - val_loss: 0.4680 - val_accuracy: 0.8194 - val_f1_m: 0.8179 - val_precision_m: 0.8654 - val_recall_m: 0.7757\n",
      "Epoch 31/50\n",
      "224/224 [==============================] - 0s 2ms/step - loss: 0.4460 - accuracy: 0.8270 - f1_m: 0.8238 - precision_m: 0.8732 - recall_m: 0.7800 - val_loss: 0.4702 - val_accuracy: 0.8224 - val_f1_m: 0.8149 - val_precision_m: 0.8791 - val_recall_m: 0.7600\n",
      "Epoch 32/50\n",
      "224/224 [==============================] - 0s 2ms/step - loss: 0.4553 - accuracy: 0.8167 - f1_m: 0.8175 - precision_m: 0.8701 - recall_m: 0.7713 - val_loss: 0.5002 - val_accuracy: 0.8148 - val_f1_m: 0.8082 - val_precision_m: 0.8611 - val_recall_m: 0.7619\n",
      "Epoch 33/50\n",
      "224/224 [==============================] - 0s 2ms/step - loss: 0.4454 - accuracy: 0.8261 - f1_m: 0.8260 - precision_m: 0.8768 - recall_m: 0.7813 - val_loss: 0.4693 - val_accuracy: 0.8144 - val_f1_m: 0.8146 - val_precision_m: 0.8735 - val_recall_m: 0.7637\n",
      "Epoch 34/50\n",
      "224/224 [==============================] - 0s 2ms/step - loss: 0.4358 - accuracy: 0.8298 - f1_m: 0.8291 - precision_m: 0.8779 - recall_m: 0.7859 - val_loss: 0.4721 - val_accuracy: 0.8190 - val_f1_m: 0.8201 - val_precision_m: 0.8649 - val_recall_m: 0.7800\n",
      "Epoch 35/50\n",
      "224/224 [==============================] - 0s 2ms/step - loss: 0.4385 - accuracy: 0.8301 - f1_m: 0.8281 - precision_m: 0.8744 - recall_m: 0.7868 - val_loss: 0.4805 - val_accuracy: 0.8183 - val_f1_m: 0.8132 - val_precision_m: 0.8714 - val_recall_m: 0.7627\n",
      "Epoch 36/50\n",
      "224/224 [==============================] - 0s 2ms/step - loss: 0.4299 - accuracy: 0.8346 - f1_m: 0.8332 - precision_m: 0.8825 - recall_m: 0.7895 - val_loss: 0.4591 - val_accuracy: 0.8214 - val_f1_m: 0.8244 - val_precision_m: 0.8703 - val_recall_m: 0.7835\n",
      "Epoch 37/50\n",
      "224/224 [==============================] - 0s 2ms/step - loss: 0.4361 - accuracy: 0.8266 - f1_m: 0.8275 - precision_m: 0.8743 - recall_m: 0.7858 - val_loss: 0.4487 - val_accuracy: 0.8323 - val_f1_m: 0.8293 - val_precision_m: 0.8796 - val_recall_m: 0.7849\n",
      "Epoch 38/50\n",
      "224/224 [==============================] - 0s 2ms/step - loss: 0.4227 - accuracy: 0.8357 - f1_m: 0.8347 - precision_m: 0.8808 - recall_m: 0.7937 - val_loss: 0.4521 - val_accuracy: 0.8282 - val_f1_m: 0.8267 - val_precision_m: 0.8721 - val_recall_m: 0.7860\n",
      "Epoch 39/50\n",
      "224/224 [==============================] - 0s 2ms/step - loss: 0.4351 - accuracy: 0.8305 - f1_m: 0.8299 - precision_m: 0.8777 - recall_m: 0.7872 - val_loss: 0.4810 - val_accuracy: 0.8172 - val_f1_m: 0.8142 - val_precision_m: 0.8588 - val_recall_m: 0.7742\n",
      "Epoch 40/50\n",
      "224/224 [==============================] - 0s 2ms/step - loss: 0.4228 - accuracy: 0.8351 - f1_m: 0.8316 - precision_m: 0.8766 - recall_m: 0.7914 - val_loss: 0.4421 - val_accuracy: 0.8326 - val_f1_m: 0.8295 - val_precision_m: 0.8798 - val_recall_m: 0.7850\n",
      "Epoch 41/50\n",
      "224/224 [==============================] - 0s 2ms/step - loss: 0.4230 - accuracy: 0.8359 - f1_m: 0.8335 - precision_m: 0.8786 - recall_m: 0.7931 - val_loss: 0.4563 - val_accuracy: 0.8282 - val_f1_m: 0.8240 - val_precision_m: 0.8784 - val_recall_m: 0.7762\n",
      "Epoch 42/50\n",
      "224/224 [==============================] - 0s 2ms/step - loss: 0.4222 - accuracy: 0.8366 - f1_m: 0.8370 - precision_m: 0.8829 - recall_m: 0.7960 - val_loss: 0.4691 - val_accuracy: 0.8243 - val_f1_m: 0.8243 - val_precision_m: 0.8617 - val_recall_m: 0.7902\n",
      "Epoch 43/50\n",
      "224/224 [==============================] - 0s 2ms/step - loss: 0.4138 - accuracy: 0.8412 - f1_m: 0.8395 - precision_m: 0.8833 - recall_m: 0.8002 - val_loss: 0.4438 - val_accuracy: 0.8322 - val_f1_m: 0.8336 - val_precision_m: 0.8760 - val_recall_m: 0.7954\n",
      "Epoch 44/50\n",
      "224/224 [==============================] - 0s 2ms/step - loss: 0.4158 - accuracy: 0.8358 - f1_m: 0.8357 - precision_m: 0.8815 - recall_m: 0.7948 - val_loss: 0.4557 - val_accuracy: 0.8262 - val_f1_m: 0.8239 - val_precision_m: 0.8734 - val_recall_m: 0.7800\n",
      "Epoch 45/50\n",
      "224/224 [==============================] - 0s 2ms/step - loss: 0.4057 - accuracy: 0.8416 - f1_m: 0.8396 - precision_m: 0.8858 - recall_m: 0.7983 - val_loss: 0.4404 - val_accuracy: 0.8333 - val_f1_m: 0.8347 - val_precision_m: 0.8740 - val_recall_m: 0.7990\n",
      "Epoch 46/50\n",
      "224/224 [==============================] - 0s 2ms/step - loss: 0.4086 - accuracy: 0.8420 - f1_m: 0.8409 - precision_m: 0.8861 - recall_m: 0.8005 - val_loss: 0.4376 - val_accuracy: 0.8387 - val_f1_m: 0.8368 - val_precision_m: 0.8831 - val_recall_m: 0.7955\n",
      "Epoch 47/50\n",
      "224/224 [==============================] - 0s 2ms/step - loss: 0.4067 - accuracy: 0.8418 - f1_m: 0.8401 - precision_m: 0.8843 - recall_m: 0.8003 - val_loss: 0.4410 - val_accuracy: 0.8340 - val_f1_m: 0.8353 - val_precision_m: 0.8756 - val_recall_m: 0.7987\n",
      "Epoch 48/50\n",
      "224/224 [==============================] - 0s 2ms/step - loss: 0.4106 - accuracy: 0.8388 - f1_m: 0.8390 - precision_m: 0.8811 - recall_m: 0.8010 - val_loss: 0.4326 - val_accuracy: 0.8376 - val_f1_m: 0.8377 - val_precision_m: 0.8825 - val_recall_m: 0.7976\n",
      "Epoch 49/50\n",
      "224/224 [==============================] - 0s 2ms/step - loss: 0.4068 - accuracy: 0.8442 - f1_m: 0.8401 - precision_m: 0.8861 - recall_m: 0.7990 - val_loss: 0.4248 - val_accuracy: 0.8399 - val_f1_m: 0.8420 - val_precision_m: 0.8787 - val_recall_m: 0.8086\n",
      "Epoch 50/50\n",
      "224/224 [==============================] - 0s 2ms/step - loss: 0.3975 - accuracy: 0.8472 - f1_m: 0.8459 - precision_m: 0.8881 - recall_m: 0.8080 - val_loss: 0.4284 - val_accuracy: 0.8367 - val_f1_m: 0.8364 - val_precision_m: 0.8814 - val_recall_m: 0.7961\n"
     ]
    },
    {
     "data": {
      "text/plain": [
       "<keras.callbacks.History at 0x7fa36036aaf0>"
      ]
     },
     "execution_count": 11,
     "metadata": {},
     "output_type": "execute_result"
    }
   ],
   "source": [
    "model.fit(X_train,np_utils.to_categorical(y_train),epochs = 50,validation_split=0.3, batch_size = 128)"
   ]
  },
  {
   "cell_type": "code",
   "execution_count": 12,
   "id": "a679a774",
   "metadata": {},
   "outputs": [],
   "source": [
    "y_pred = model.predict(X_test)"
   ]
  },
  {
   "cell_type": "code",
   "execution_count": 13,
   "id": "77013e13",
   "metadata": {},
   "outputs": [],
   "source": [
    "predicted = np.argmax(y_pred, axis=1)"
   ]
  },
  {
   "cell_type": "code",
   "execution_count": 14,
   "id": "ed4b269d",
   "metadata": {},
   "outputs": [
    {
     "name": "stdout",
     "output_type": "stream",
     "text": [
      "0.8483826010415902\n"
     ]
    }
   ],
   "source": [
    "from sklearn.metrics import classification_report\n",
    "print(accuracy_score(y_test,predicted))"
   ]
  },
  {
   "cell_type": "code",
   "execution_count": 15,
   "id": "7a2750e0",
   "metadata": {},
   "outputs": [
    {
     "name": "stdout",
     "output_type": "stream",
     "text": [
      "              precision    recall  f1-score   support\n",
      "\n",
      "      Benign       0.93      0.95      0.94      2735\n",
      "  Defacement       0.76      0.75      0.76      2499\n",
      "     Malware       0.82      0.93      0.87      2834\n",
      "    Phishing       0.85      0.68      0.75      2477\n",
      "        Spam       0.87      0.90      0.89      3088\n",
      "\n",
      "    accuracy                           0.85     13633\n",
      "   macro avg       0.85      0.84      0.84     13633\n",
      "weighted avg       0.85      0.85      0.85     13633\n",
      "\n"
     ]
    }
   ],
   "source": [
    "target_names = ['Benign','Defacement','Malware','Phishing','Spam']\n",
    "print(classification_report(y_test, predicted, target_names=target_names))"
   ]
  },
  {
   "cell_type": "code",
   "execution_count": 16,
   "id": "54095bd8",
   "metadata": {},
   "outputs": [
    {
     "name": "stdout",
     "output_type": "stream",
     "text": [
      "INFO:tensorflow:Assets written to: Model_v1/assets\n"
     ]
    }
   ],
   "source": [
    "os.chdir(\"../\")\n",
    "os.chdir(\"models\")\n",
    "model.save(\"Model_v1\")"
   ]
  },
  {
   "cell_type": "code",
   "execution_count": null,
   "id": "6f3e13e6",
   "metadata": {},
   "outputs": [],
   "source": []
  },
  {
   "cell_type": "code",
   "execution_count": 19,
   "id": "77382436",
   "metadata": {},
   "outputs": [],
   "source": [
    "os.chdir(\"../\")\n",
    "os.chdir(\"scripts\")"
   ]
  },
  {
   "cell_type": "code",
   "execution_count": 22,
   "id": "22fcf40b",
   "metadata": {},
   "outputs": [],
   "source": [
    "import data_creation_v3 as d"
   ]
  },
  {
   "cell_type": "code",
   "execution_count": null,
   "id": "6c6dde69",
   "metadata": {},
   "outputs": [],
   "source": [
    "d.UrlFeaturizer('')"
   ]
  }
 ],
 "metadata": {
  "kernelspec": {
   "display_name": "Python 3.8.0 64-bit",
   "language": "python",
   "name": "python38064bit1060d4750c904259afeb7847dfa8ded2"
  },
  "language_info": {
   "codemirror_mode": {
    "name": "ipython",
    "version": 3
   },
   "file_extension": ".py",
   "mimetype": "text/x-python",
   "name": "python",
   "nbconvert_exporter": "python",
   "pygments_lexer": "ipython3",
   "version": "3.9.2"
  },
  "toc": {
   "base_numbering": 1,
   "nav_menu": {},
   "number_sections": false,
   "sideBar": false,
   "skip_h1_title": false,
   "title_cell": "Table of Contents",
   "title_sidebar": "Contents",
   "toc_cell": false,
   "toc_position": {},
   "toc_section_display": false,
   "toc_window_display": false
  }
 },
 "nbformat": 4,
 "nbformat_minor": 5
}
