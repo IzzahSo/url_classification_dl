{
 "cells": [
  {
   "cell_type": "code",
   "execution_count": 2,
   "id": "56ab5a5d",
   "metadata": {},
   "outputs": [],
   "source": [
    "import os\n",
    "os.chdir(\"../\")\n",
    "os.chdir(\"FinalDataset\")"
   ]
  },
  {
   "cell_type": "code",
   "execution_count": 3,
   "id": "c4854ed8",
   "metadata": {},
   "outputs": [
    {
     "data": {
      "text/plain": [
       "'C:\\\\Users\\\\SRIKANTH\\\\Documents\\\\GitHub\\\\url_classification_dl\\\\FinalDataset'"
      ]
     },
     "execution_count": 3,
     "metadata": {},
     "output_type": "execute_result"
    }
   ],
   "source": [
    "os.getcwd()"
   ]
  },
  {
   "cell_type": "code",
   "execution_count": 4,
   "id": "beb08b9b",
   "metadata": {},
   "outputs": [],
   "source": [
    "import pandas as pd\n",
    "import tensorflow as ts\n",
    "import numpy as np\n",
    "from sklearn.preprocessing import LabelEncoder\n",
    "from keras.utils.np_utils import to_categorical"
   ]
  },
  {
   "cell_type": "code",
   "execution_count": 109,
   "id": "258c7a46",
   "metadata": {},
   "outputs": [],
   "source": [
    "from sklearn.metrics import accuracy_score,f1_score,precision_score,recall_score"
   ]
  },
  {
   "cell_type": "code",
   "execution_count": 59,
   "id": "63180c02",
   "metadata": {},
   "outputs": [],
   "source": [
    "from sklearn.preprocessing import MinMaxScaler"
   ]
  },
  {
   "cell_type": "code",
   "execution_count": 24,
   "id": "62cfed2e",
   "metadata": {},
   "outputs": [],
   "source": [
    "m = ts.keras.metrics.CategoricalAccuracy()"
   ]
  },
  {
   "cell_type": "code",
   "execution_count": 25,
   "id": "32c2c5b8",
   "metadata": {},
   "outputs": [],
   "source": [
    "from keras.wrappers.scikit_learn import KerasClassifier\n",
    "\n",
    "from keras.utils import np_utils\n",
    "\n",
    "from sklearn.model_selection import cross_val_score\n",
    "\n",
    "from sklearn.model_selection import KFold"
   ]
  },
  {
   "cell_type": "code",
   "execution_count": 26,
   "id": "baef99b4",
   "metadata": {},
   "outputs": [],
   "source": [
    "data = pd.read_csv(\"URL_features.csv\")"
   ]
  },
  {
   "cell_type": "code",
   "execution_count": 27,
   "id": "3888d885",
   "metadata": {},
   "outputs": [],
   "source": [
    "data.drop(columns='Unnamed: 0',inplace=True)\n",
    "'''\n",
    "data.replace('Benign_list_big_final',0,inplace=True)\n",
    "data.replace('DefacementSitesURLFiltered',1,inplace=True)\n",
    "data.replace('Malware_dataset',2,inplace=True)\n",
    "data.replace('phishing_dataset',3,inplace=True)\n",
    "data.replace('spam_dataset',4,inplace=True)\n",
    "'''\n",
    "data.replace(True,1,inplace = True)\n",
    "data.replace(False,0,inplace = True)\n",
    "y = data[\"File\"]\n",
    "data.drop(columns = \"ext\",inplace = True)"
   ]
  },
  {
   "cell_type": "code",
   "execution_count": 28,
   "id": "8ce508fa",
   "metadata": {},
   "outputs": [],
   "source": [
    "data = data.drop(columns = \"File\")"
   ]
  },
  {
   "cell_type": "code",
   "execution_count": 29,
   "id": "193fbb1b",
   "metadata": {},
   "outputs": [],
   "source": [
    "encoder = LabelEncoder()\n",
    "encoder.fit(y)\n",
    "Y = encoder.transform(y)"
   ]
  },
  {
   "cell_type": "code",
   "execution_count": 60,
   "id": "0bfad359",
   "metadata": {},
   "outputs": [],
   "source": [
    "scaler = MinMaxScaler(feature_range=(0, 1))\n",
    "X = scaler.fit_transform(data)\n",
    "X = pd.DataFrame(X)"
   ]
  },
  {
   "cell_type": "code",
   "execution_count": 81,
   "id": "f0c96892",
   "metadata": {},
   "outputs": [],
   "source": [
    "from keras import backend as K\n",
    "\n",
    "def recall_m(y_true, y_pred):\n",
    "    true_positives = K.sum(K.round(K.clip(y_true * y_pred, 0, 1)))\n",
    "    possible_positives = K.sum(K.round(K.clip(y_true, 0, 1)))\n",
    "    recall = true_positives / (possible_positives + K.epsilon())\n",
    "    return recall\n",
    "\n",
    "def precision_m(y_true, y_pred):\n",
    "    true_positives = K.sum(K.round(K.clip(y_true * y_pred, 0, 1)))\n",
    "    predicted_positives = K.sum(K.round(K.clip(y_pred, 0, 1)))\n",
    "    precision = true_positives / (predicted_positives + K.epsilon())\n",
    "    return precision\n",
    "\n",
    "def f1_m(y_true, y_pred):\n",
    "    precision = precision_m(y_true, y_pred)\n",
    "    recall = recall_m(y_true, y_pred)\n",
    "    return 2*((precision*recall)/(precision+recall+K.epsilon()))"
   ]
  },
  {
   "cell_type": "code",
   "execution_count": 143,
   "id": "cfda3014",
   "metadata": {},
   "outputs": [],
   "source": [
    "from keras.models import Sequential\n",
    "from keras.layers import LSTM, Dense, Dropout, Masking, Embedding\n",
    "\n",
    "input_dim = len(data.columns)\n",
    "model = Sequential()\n",
    "model.add(Dense(128, input_dim = input_dim , activation = 'relu'))\n",
    "model.add(Dense(64, activation = 'relu'))\n",
    "model.add(Dense(32, activation = 'relu'))\n",
    "model.add(Dense(10, activation = 'relu'))\n",
    "model.add(Dense(5, activation = 'softmax'))\n",
    "\n",
    "\n",
    "\n",
    "model.compile(loss = 'categorical_crossentropy' , optimizer = 'adam' , metrics = ['accuracy',f1_m,precision_m, recall_m] )\n",
    "    "
   ]
  },
  {
   "cell_type": "code",
   "execution_count": 144,
   "id": "93d0c89c",
   "metadata": {},
   "outputs": [],
   "source": [
    "from sklearn.model_selection import train_test_split\n",
    "X_train, X_test, y_train, y_test = train_test_split(data, Y, test_size=0.25, random_state=42)"
   ]
  },
  {
   "cell_type": "code",
   "execution_count": 156,
   "id": "6539858b",
   "metadata": {},
   "outputs": [
    {
     "name": "stdout",
     "output_type": "stream",
     "text": [
      "Epoch 1/12\n",
      "679/679 [==============================] - 2s 3ms/step - loss: 0.6745 - accuracy: 0.7694 - f1_m: 0.7657 - precision_m: 0.8117 - recall_m: 0.7263 - val_loss: 0.6079 - val_accuracy: 0.7841 - val_f1_m: 0.7852 - val_precision_m: 0.8195 - val_recall_m: 0.7539\n",
      "Epoch 2/12\n",
      "679/679 [==============================] - 2s 3ms/step - loss: 0.5965 - accuracy: 0.7898 - f1_m: 0.7848 - precision_m: 0.8228 - recall_m: 0.7506 - val_loss: 0.5778 - val_accuracy: 0.7928 - val_f1_m: 0.7906 - val_precision_m: 0.8171 - val_recall_m: 0.7660\n",
      "Epoch 3/12\n",
      "679/679 [==============================] - 2s 3ms/step - loss: 0.5781 - accuracy: 0.7949 - f1_m: 0.7907 - precision_m: 0.8293 - recall_m: 0.7559 - val_loss: 0.5676 - val_accuracy: 0.8010 - val_f1_m: 0.7938 - val_precision_m: 0.8327 - val_recall_m: 0.7586\n",
      "Epoch 4/12\n",
      "679/679 [==============================] - 2s 3ms/step - loss: 0.5649 - accuracy: 0.8013 - f1_m: 0.7975 - precision_m: 0.8337 - recall_m: 0.7646 - val_loss: 0.5519 - val_accuracy: 0.8086 - val_f1_m: 0.8042 - val_precision_m: 0.8371 - val_recall_m: 0.7740\n",
      "Epoch 5/12\n",
      "679/679 [==============================] - 2s 3ms/step - loss: 0.5528 - accuracy: 0.8057 - f1_m: 0.8027 - precision_m: 0.8352 - recall_m: 0.7730 - val_loss: 0.5480 - val_accuracy: 0.8082 - val_f1_m: 0.8052 - val_precision_m: 0.8363 - val_recall_m: 0.7766\n",
      "Epoch 6/12\n",
      "679/679 [==============================] - 2s 3ms/step - loss: 0.5481 - accuracy: 0.8083 - f1_m: 0.8056 - precision_m: 0.8369 - recall_m: 0.7768 - val_loss: 0.5594 - val_accuracy: 0.8059 - val_f1_m: 0.8012 - val_precision_m: 0.8366 - val_recall_m: 0.7689\n",
      "Epoch 7/12\n",
      "679/679 [==============================] - 2s 3ms/step - loss: 0.5395 - accuracy: 0.8120 - f1_m: 0.8090 - precision_m: 0.8389 - recall_m: 0.7815 - val_loss: 0.5438 - val_accuracy: 0.8129 - val_f1_m: 0.8096 - val_precision_m: 0.8364 - val_recall_m: 0.7846\n",
      "Epoch 8/12\n",
      "679/679 [==============================] - 2s 3ms/step - loss: 0.5338 - accuracy: 0.8136 - f1_m: 0.8100 - precision_m: 0.8389 - recall_m: 0.7834 - val_loss: 0.5642 - val_accuracy: 0.8001 - val_f1_m: 0.7967 - val_precision_m: 0.8205 - val_recall_m: 0.7744\n",
      "Epoch 9/12\n",
      "679/679 [==============================] - 2s 3ms/step - loss: 0.5316 - accuracy: 0.8146 - f1_m: 0.8115 - precision_m: 0.8402 - recall_m: 0.7849 - val_loss: 0.5286 - val_accuracy: 0.8140 - val_f1_m: 0.8138 - val_precision_m: 0.8352 - val_recall_m: 0.7937\n",
      "Epoch 10/12\n",
      "679/679 [==============================] - 2s 3ms/step - loss: 0.5263 - accuracy: 0.8164 - f1_m: 0.8138 - precision_m: 0.8418 - recall_m: 0.7879 - val_loss: 0.5745 - val_accuracy: 0.8013 - val_f1_m: 0.7985 - val_precision_m: 0.8213 - val_recall_m: 0.7771\n",
      "Epoch 11/12\n",
      "679/679 [==============================] - 2s 3ms/step - loss: 0.5229 - accuracy: 0.8173 - f1_m: 0.8155 - precision_m: 0.8425 - recall_m: 0.7905 - val_loss: 0.5271 - val_accuracy: 0.8188 - val_f1_m: 0.8165 - val_precision_m: 0.8383 - val_recall_m: 0.7960\n",
      "Epoch 12/12\n",
      "679/679 [==============================] - 2s 3ms/step - loss: 0.5206 - accuracy: 0.8175 - f1_m: 0.8151 - precision_m: 0.8418 - recall_m: 0.7903 - val_loss: 0.5212 - val_accuracy: 0.8197 - val_f1_m: 0.8189 - val_precision_m: 0.8410 - val_recall_m: 0.7981\n"
     ]
    },
    {
     "data": {
      "text/plain": [
       "<tensorflow.python.keras.callbacks.History at 0x2065d1ff400>"
      ]
     },
     "execution_count": 156,
     "metadata": {},
     "output_type": "execute_result"
    }
   ],
   "source": [
    "model.fit(X_train,np_utils.to_categorical(y_train),epochs = 12,validation_split=0.3, batch_size = 128)"
   ]
  },
  {
   "cell_type": "code",
   "execution_count": 157,
   "id": "3cdd7b5d",
   "metadata": {},
   "outputs": [],
   "source": [
    "y_pred = model.predict(X_test)"
   ]
  },
  {
   "cell_type": "code",
   "execution_count": 158,
   "id": "e3aaa405",
   "metadata": {},
   "outputs": [],
   "source": [
    "predicted = np.argmax(y_pred, axis=1)"
   ]
  },
  {
   "cell_type": "code",
   "execution_count": 159,
   "id": "3b3a7bfd",
   "metadata": {},
   "outputs": [
    {
     "name": "stdout",
     "output_type": "stream",
     "text": [
      "0.8193362682018287\n"
     ]
    }
   ],
   "source": [
    "from sklearn.metrics import classification_report\n",
    "print(accuracy_score(y_test,predicted))"
   ]
  },
  {
   "cell_type": "code",
   "execution_count": 160,
   "id": "aeaf0a31",
   "metadata": {},
   "outputs": [
    {
     "name": "stdout",
     "output_type": "stream",
     "text": [
      "                            precision    recall  f1-score   support\n",
      "\n",
      "     Benign_list_big_final       0.77      0.88      0.82      8903\n",
      "DefacementSitesURLFiltered       0.84      0.93      0.88     23970\n",
      "           Malware_dataset       0.85      0.52      0.65      2864\n",
      "          phishing_dataset       0.66      0.17      0.27      2493\n",
      "              spam_dataset       0.79      0.58      0.67      3112\n",
      "\n",
      "                  accuracy                           0.82     41342\n",
      "                 macro avg       0.78      0.62      0.66     41342\n",
      "              weighted avg       0.81      0.82      0.80     41342\n",
      "\n"
     ]
    }
   ],
   "source": [
    "target_names = ['Benign_list_big_final','DefacementSitesURLFiltered','Malware_dataset','phishing_dataset','spam_dataset']\n",
    "print(classification_report(y_test, predicted, target_names=target_names))"
   ]
  },
  {
   "cell_type": "code",
   "execution_count": 155,
   "id": "659cc610",
   "metadata": {},
   "outputs": [
    {
     "name": "stdout",
     "output_type": "stream",
     "text": [
      "INFO:tensorflow:Assets written to: nn1\\assets\n"
     ]
    }
   ],
   "source": [
    "model.save(\"nn1\")"
   ]
  },
  {
   "cell_type": "code",
   "execution_count": null,
   "id": "ffab2e8d",
   "metadata": {},
   "outputs": [],
   "source": []
  }
 ],
 "metadata": {
  "kernelspec": {
   "display_name": "TF-GPU",
   "language": "python",
   "name": "tensorflow"
  },
  "language_info": {
   "codemirror_mode": {
    "name": "ipython",
    "version": 3
   },
   "file_extension": ".py",
   "mimetype": "text/x-python",
   "name": "python",
   "nbconvert_exporter": "python",
   "pygments_lexer": "ipython3",
   "version": "3.8.8"
  },
  "toc": {
   "base_numbering": 1,
   "nav_menu": {},
   "number_sections": false,
   "sideBar": false,
   "skip_h1_title": false,
   "title_cell": "Table of Contents",
   "title_sidebar": "Contents",
   "toc_cell": false,
   "toc_position": {},
   "toc_section_display": false,
   "toc_window_display": false
  }
 },
 "nbformat": 4,
 "nbformat_minor": 5
}
